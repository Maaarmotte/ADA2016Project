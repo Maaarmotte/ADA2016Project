{
 "cells": [
  {
   "cell_type": "markdown",
   "metadata": {},
   "source": [
    "#### Extracting sentiments from tweets\n",
    "This is an explanation on how to extract the tweets sentiments. It will extract them for the month of April, which takes time. You can find these data pickled in the tweets_en_april.pkl file"
   ]
  },
  {
   "cell_type": "code",
   "execution_count": 1,
   "metadata": {
    "collapsed": false
   },
   "outputs": [],
   "source": [
    "import pandas as pd"
   ]
  },
  {
   "cell_type": "code",
   "execution_count": 2,
   "metadata": {
    "collapsed": true
   },
   "outputs": [],
   "source": [
    "sample = pd.read_json('data/april/harvest3r_twitter_data_01-04_0.json')"
   ]
  },
  {
   "cell_type": "markdown",
   "metadata": {},
   "source": [
    "What kind of data are present in a tweet?"
   ]
  },
  {
   "cell_type": "code",
   "execution_count": 3,
   "metadata": {
    "collapsed": false
   },
   "outputs": [
    {
     "data": {
      "text/html": [
       "<div>\n",
       "<table border=\"1\" class=\"dataframe\">\n",
       "  <thead>\n",
       "    <tr style=\"text-align: right;\">\n",
       "      <th></th>\n",
       "      <th>_id</th>\n",
       "      <th>_index</th>\n",
       "      <th>_score</th>\n",
       "      <th>_source</th>\n",
       "      <th>_type</th>\n",
       "    </tr>\n",
       "  </thead>\n",
       "  <tbody>\n",
       "    <tr>\n",
       "      <th>0</th>\n",
       "      <td>1459505293000008960</td>\n",
       "      <td>merged_content_2016_04_01_to_2016_04_14</td>\n",
       "      <td>0.001139</td>\n",
       "      <td>{'main_authoritative': True, 'metadata_score':...</td>\n",
       "      <td>content</td>\n",
       "    </tr>\n",
       "    <tr>\n",
       "      <th>1</th>\n",
       "      <td>1459504074000012800</td>\n",
       "      <td>merged_content_2016_04_01_to_2016_04_14</td>\n",
       "      <td>0.001139</td>\n",
       "      <td>{'main_authoritative': True, 'metadata_score':...</td>\n",
       "      <td>content</td>\n",
       "    </tr>\n",
       "    <tr>\n",
       "      <th>2</th>\n",
       "      <td>1459547684000013568</td>\n",
       "      <td>merged_content_2016_04_01_to_2016_04_14</td>\n",
       "      <td>0.001139</td>\n",
       "      <td>{'main_authoritative': True, 'metadata_score':...</td>\n",
       "      <td>content</td>\n",
       "    </tr>\n",
       "    <tr>\n",
       "      <th>3</th>\n",
       "      <td>1459478188000002816</td>\n",
       "      <td>merged_content_2016_04_01_to_2016_04_14</td>\n",
       "      <td>0.001139</td>\n",
       "      <td>{'main_authoritative': True, 'metadata_score':...</td>\n",
       "      <td>content</td>\n",
       "    </tr>\n",
       "    <tr>\n",
       "      <th>4</th>\n",
       "      <td>1459519767000012288</td>\n",
       "      <td>merged_content_2016_04_01_to_2016_04_14</td>\n",
       "      <td>0.001139</td>\n",
       "      <td>{'main_authoritative': True, 'metadata_score':...</td>\n",
       "      <td>content</td>\n",
       "    </tr>\n",
       "  </tbody>\n",
       "</table>\n",
       "</div>"
      ],
      "text/plain": [
       "                   _id                                   _index    _score  \\\n",
       "0  1459505293000008960  merged_content_2016_04_01_to_2016_04_14  0.001139   \n",
       "1  1459504074000012800  merged_content_2016_04_01_to_2016_04_14  0.001139   \n",
       "2  1459547684000013568  merged_content_2016_04_01_to_2016_04_14  0.001139   \n",
       "3  1459478188000002816  merged_content_2016_04_01_to_2016_04_14  0.001139   \n",
       "4  1459519767000012288  merged_content_2016_04_01_to_2016_04_14  0.001139   \n",
       "\n",
       "                                             _source    _type  \n",
       "0  {'main_authoritative': True, 'metadata_score':...  content  \n",
       "1  {'main_authoritative': True, 'metadata_score':...  content  \n",
       "2  {'main_authoritative': True, 'metadata_score':...  content  \n",
       "3  {'main_authoritative': True, 'metadata_score':...  content  \n",
       "4  {'main_authoritative': True, 'metadata_score':...  content  "
      ]
     },
     "execution_count": 3,
     "metadata": {},
     "output_type": "execute_result"
    }
   ],
   "source": [
    "sample.head()"
   ]
  },
  {
   "cell_type": "markdown",
   "metadata": {},
   "source": [
    "We are mostly interested in the _source field"
   ]
  },
  {
   "cell_type": "code",
   "execution_count": 4,
   "metadata": {
    "collapsed": false,
    "scrolled": false
   },
   "outputs": [
    {
     "data": {
      "text/plain": [
       "{'author_avatar_img': 'https://pbs.twimg.com/profile_images/1195500897/Icon_BBA_bigger.png',\n",
       " 'author_gender': 'UNKNOWN',\n",
       " 'author_handle': 'bba_allmedia',\n",
       " 'author_link': 'https://twitter.com/bba_allmedia',\n",
       " 'author_name': 'BBA Allmedia',\n",
       " 'bucket': 1459505100099,\n",
       " 'canonical': 'https://twitter.com/bba_allmedia/status/715843057392992256',\n",
       " 'date_found': '2016-04-01T10:08:13Z',\n",
       " 'domain': 'twitter.com',\n",
       " 'hashcode': 'xxAm2o2O27-BV82_lRzXa2WTt-8',\n",
       " 'index_method': 'SOURCE_TASK_COMPOSITE',\n",
       " 'lang': 'de',\n",
       " 'links': ['https://t.co/s4g1d8KiWe'],\n",
       " 'main': 'Aktuellste Immoangebote http://tinyurl.com/cthce3f\\xa0',\n",
       " 'main_authoritative': True,\n",
       " 'main_checksum': '01uIm3DfvaRag9mywHxDhXv3hYM',\n",
       " 'main_format': 'TEXT',\n",
       " 'main_length': 51,\n",
       " 'metadata_score': 304,\n",
       " 'permalink': 'https://twitter.com/bba_allmedia/status/715843057392992256',\n",
       " 'published': '2016-04-01T10:07:39Z',\n",
       " 'resource': 'https://twitter.com/bba_allmedia/status/715843057392992256',\n",
       " 'sentiment': 'NEUTRAL',\n",
       " 'sequence': 1459505293000009032,\n",
       " 'sequence_range': 61199,\n",
       " 'site': 'twitter.com',\n",
       " 'source_content_checksum': 'WAc7G8EbDEqO_mh5QfW7iJCzWx0',\n",
       " 'source_content_length': 270959,\n",
       " 'source_date_found': '2015-12-11T13:08:16Z',\n",
       " 'source_description': '<p>Redaktion Bremgarter Bezirks-Anzeiger, Zugerstrasse 14, 5620 Bremgarten, Telefon 056 618 58 77, E-Mail: redaktion@bremgarterbezirksanzeiger.ch</p>',\n",
       " 'source_favicon_height': 0,\n",
       " 'source_favicon_width': 0,\n",
       " 'source_favorites': 0,\n",
       " 'source_followers': 33,\n",
       " 'source_following': 7,\n",
       " 'source_handle': 'bba_allmedia',\n",
       " 'source_hashcode': 'llCq0cOP5LXsxRV1Y2wVHYtvm3Q',\n",
       " 'source_http_status': 200,\n",
       " 'source_image_height': 0,\n",
       " 'source_image_src': 'https://pbs.twimg.com/profile_images/1195500897/Icon_BBA_400x400.png',\n",
       " 'source_image_width': 0,\n",
       " 'source_last_posted': '2014-12-22T12:28:07Z',\n",
       " 'source_last_published': '2015-12-11T13:08:19Z',\n",
       " 'source_last_updated': '2015-12-11T13:08:19Z',\n",
       " 'source_likes': 0,\n",
       " 'source_link': 'https://twitter.com/bba_allmedia',\n",
       " 'source_location': 'Bremgarten',\n",
       " 'source_parsed_posts': 0,\n",
       " 'source_parsed_posts_max': 0,\n",
       " 'source_profiles': ['http://www.bremgarterbezirksanzeiger.ch'],\n",
       " 'source_publisher_subtype': 'twitter',\n",
       " 'source_publisher_type': 'MICROBLOG',\n",
       " 'source_resource': 'https://twitter.com/bba_allmedia',\n",
       " 'source_setting_author_policy': 'DEFAULT',\n",
       " 'source_setting_index_strategy': 'DEFAULT',\n",
       " 'source_setting_minimum_content_metadata_score': 0,\n",
       " 'source_setting_update_strategy': 'CYCLICAL',\n",
       " 'source_spam_probability': 0.0,\n",
       " 'source_title': 'BBA Allmedia',\n",
       " 'source_update_interval': 3600000,\n",
       " 'source_user_interactions': 0,\n",
       " 'source_verified': False,\n",
       " 'type': 'POST',\n",
       " 'version': '5.1.683'}"
      ]
     },
     "execution_count": 4,
     "metadata": {},
     "output_type": "execute_result"
    }
   ],
   "source": [
    "sample.loc[0]._source"
   ]
  },
  {
   "cell_type": "markdown",
   "metadata": {},
   "source": [
    "We also have the tweets IDs"
   ]
  },
  {
   "cell_type": "code",
   "execution_count": 5,
   "metadata": {
    "collapsed": false
   },
   "outputs": [
    {
     "data": {
      "text/plain": [
       "0    1459505293000008960\n",
       "1    1459504074000012800\n",
       "2    1459547684000013568\n",
       "3    1459478188000002816\n",
       "4    1459519767000012288\n",
       "Name: _id, dtype: int64"
      ]
     },
     "execution_count": 5,
     "metadata": {},
     "output_type": "execute_result"
    }
   ],
   "source": [
    "sample._id.head()"
   ]
  },
  {
   "cell_type": "markdown",
   "metadata": {},
   "source": [
    "Problem: it seems that the tweets IDs are not unique !"
   ]
  },
  {
   "cell_type": "code",
   "execution_count": 6,
   "metadata": {
    "collapsed": false
   },
   "outputs": [
    {
     "data": {
      "text/plain": [
       "1459523793000004096    17\n",
       "1459523794000004096    11\n",
       "1459559363000008960     9\n",
       "1459538897000013568     7\n",
       "1459501304000013568     6\n",
       "Name: _id, dtype: int64"
      ]
     },
     "execution_count": 6,
     "metadata": {},
     "output_type": "execute_result"
    }
   ],
   "source": [
    "sample._id.value_counts().head()"
   ]
  },
  {
   "cell_type": "markdown",
   "metadata": {},
   "source": [
    "How many tweets for this day ?"
   ]
  },
  {
   "cell_type": "code",
   "execution_count": 7,
   "metadata": {
    "collapsed": false
   },
   "outputs": [
    {
     "data": {
      "text/plain": [
       "25333"
      ]
     },
     "execution_count": 7,
     "metadata": {},
     "output_type": "execute_result"
    }
   ],
   "source": [
    "len(sample._source)"
   ]
  },
  {
   "cell_type": "markdown",
   "metadata": {},
   "source": [
    "Create a new pre-allocated DataFrame"
   ]
  },
  {
   "cell_type": "code",
   "execution_count": 8,
   "metadata": {
    "collapsed": false
   },
   "outputs": [
    {
     "data": {
      "text/html": [
       "<div>\n",
       "<table border=\"1\" class=\"dataframe\">\n",
       "  <thead>\n",
       "    <tr style=\"text-align: right;\">\n",
       "      <th></th>\n",
       "      <th>source_verified</th>\n",
       "      <th>type</th>\n",
       "      <th>permalink</th>\n",
       "      <th>author_gender</th>\n",
       "      <th>author_link</th>\n",
       "      <th>sequence</th>\n",
       "      <th>source_parsed_posts_max</th>\n",
       "      <th>source_content_length</th>\n",
       "      <th>source_handle</th>\n",
       "      <th>source_setting_update_strategy</th>\n",
       "      <th>...</th>\n",
       "      <th>source_last_updated</th>\n",
       "      <th>mentions</th>\n",
       "      <th>version</th>\n",
       "      <th>shares</th>\n",
       "      <th>source_location</th>\n",
       "      <th>source_update_interval</th>\n",
       "      <th>source_publisher_subtype</th>\n",
       "      <th>date_found</th>\n",
       "      <th>source_likes</th>\n",
       "      <th>main_format</th>\n",
       "    </tr>\n",
       "  </thead>\n",
       "  <tbody>\n",
       "    <tr>\n",
       "      <th>0</th>\n",
       "      <td>NaN</td>\n",
       "      <td>NaN</td>\n",
       "      <td>NaN</td>\n",
       "      <td>NaN</td>\n",
       "      <td>NaN</td>\n",
       "      <td>NaN</td>\n",
       "      <td>NaN</td>\n",
       "      <td>NaN</td>\n",
       "      <td>NaN</td>\n",
       "      <td>NaN</td>\n",
       "      <td>...</td>\n",
       "      <td>NaN</td>\n",
       "      <td>NaN</td>\n",
       "      <td>NaN</td>\n",
       "      <td>NaN</td>\n",
       "      <td>NaN</td>\n",
       "      <td>NaN</td>\n",
       "      <td>NaN</td>\n",
       "      <td>NaN</td>\n",
       "      <td>NaN</td>\n",
       "      <td>NaN</td>\n",
       "    </tr>\n",
       "    <tr>\n",
       "      <th>1</th>\n",
       "      <td>NaN</td>\n",
       "      <td>NaN</td>\n",
       "      <td>NaN</td>\n",
       "      <td>NaN</td>\n",
       "      <td>NaN</td>\n",
       "      <td>NaN</td>\n",
       "      <td>NaN</td>\n",
       "      <td>NaN</td>\n",
       "      <td>NaN</td>\n",
       "      <td>NaN</td>\n",
       "      <td>...</td>\n",
       "      <td>NaN</td>\n",
       "      <td>NaN</td>\n",
       "      <td>NaN</td>\n",
       "      <td>NaN</td>\n",
       "      <td>NaN</td>\n",
       "      <td>NaN</td>\n",
       "      <td>NaN</td>\n",
       "      <td>NaN</td>\n",
       "      <td>NaN</td>\n",
       "      <td>NaN</td>\n",
       "    </tr>\n",
       "    <tr>\n",
       "      <th>2</th>\n",
       "      <td>NaN</td>\n",
       "      <td>NaN</td>\n",
       "      <td>NaN</td>\n",
       "      <td>NaN</td>\n",
       "      <td>NaN</td>\n",
       "      <td>NaN</td>\n",
       "      <td>NaN</td>\n",
       "      <td>NaN</td>\n",
       "      <td>NaN</td>\n",
       "      <td>NaN</td>\n",
       "      <td>...</td>\n",
       "      <td>NaN</td>\n",
       "      <td>NaN</td>\n",
       "      <td>NaN</td>\n",
       "      <td>NaN</td>\n",
       "      <td>NaN</td>\n",
       "      <td>NaN</td>\n",
       "      <td>NaN</td>\n",
       "      <td>NaN</td>\n",
       "      <td>NaN</td>\n",
       "      <td>NaN</td>\n",
       "    </tr>\n",
       "    <tr>\n",
       "      <th>3</th>\n",
       "      <td>NaN</td>\n",
       "      <td>NaN</td>\n",
       "      <td>NaN</td>\n",
       "      <td>NaN</td>\n",
       "      <td>NaN</td>\n",
       "      <td>NaN</td>\n",
       "      <td>NaN</td>\n",
       "      <td>NaN</td>\n",
       "      <td>NaN</td>\n",
       "      <td>NaN</td>\n",
       "      <td>...</td>\n",
       "      <td>NaN</td>\n",
       "      <td>NaN</td>\n",
       "      <td>NaN</td>\n",
       "      <td>NaN</td>\n",
       "      <td>NaN</td>\n",
       "      <td>NaN</td>\n",
       "      <td>NaN</td>\n",
       "      <td>NaN</td>\n",
       "      <td>NaN</td>\n",
       "      <td>NaN</td>\n",
       "    </tr>\n",
       "    <tr>\n",
       "      <th>4</th>\n",
       "      <td>NaN</td>\n",
       "      <td>NaN</td>\n",
       "      <td>NaN</td>\n",
       "      <td>NaN</td>\n",
       "      <td>NaN</td>\n",
       "      <td>NaN</td>\n",
       "      <td>NaN</td>\n",
       "      <td>NaN</td>\n",
       "      <td>NaN</td>\n",
       "      <td>NaN</td>\n",
       "      <td>...</td>\n",
       "      <td>NaN</td>\n",
       "      <td>NaN</td>\n",
       "      <td>NaN</td>\n",
       "      <td>NaN</td>\n",
       "      <td>NaN</td>\n",
       "      <td>NaN</td>\n",
       "      <td>NaN</td>\n",
       "      <td>NaN</td>\n",
       "      <td>NaN</td>\n",
       "      <td>NaN</td>\n",
       "    </tr>\n",
       "  </tbody>\n",
       "</table>\n",
       "<p>5 rows × 70 columns</p>\n",
       "</div>"
      ],
      "text/plain": [
       "  source_verified type permalink author_gender author_link sequence  \\\n",
       "0             NaN  NaN       NaN           NaN         NaN      NaN   \n",
       "1             NaN  NaN       NaN           NaN         NaN      NaN   \n",
       "2             NaN  NaN       NaN           NaN         NaN      NaN   \n",
       "3             NaN  NaN       NaN           NaN         NaN      NaN   \n",
       "4             NaN  NaN       NaN           NaN         NaN      NaN   \n",
       "\n",
       "  source_parsed_posts_max source_content_length source_handle  \\\n",
       "0                     NaN                   NaN           NaN   \n",
       "1                     NaN                   NaN           NaN   \n",
       "2                     NaN                   NaN           NaN   \n",
       "3                     NaN                   NaN           NaN   \n",
       "4                     NaN                   NaN           NaN   \n",
       "\n",
       "  source_setting_update_strategy     ...     source_last_updated mentions  \\\n",
       "0                            NaN     ...                     NaN      NaN   \n",
       "1                            NaN     ...                     NaN      NaN   \n",
       "2                            NaN     ...                     NaN      NaN   \n",
       "3                            NaN     ...                     NaN      NaN   \n",
       "4                            NaN     ...                     NaN      NaN   \n",
       "\n",
       "  version shares source_location source_update_interval  \\\n",
       "0     NaN    NaN             NaN                    NaN   \n",
       "1     NaN    NaN             NaN                    NaN   \n",
       "2     NaN    NaN             NaN                    NaN   \n",
       "3     NaN    NaN             NaN                    NaN   \n",
       "4     NaN    NaN             NaN                    NaN   \n",
       "\n",
       "  source_publisher_subtype date_found source_likes main_format  \n",
       "0                      NaN        NaN          NaN         NaN  \n",
       "1                      NaN        NaN          NaN         NaN  \n",
       "2                      NaN        NaN          NaN         NaN  \n",
       "3                      NaN        NaN          NaN         NaN  \n",
       "4                      NaN        NaN          NaN         NaN  \n",
       "\n",
       "[5 rows x 70 columns]"
      ]
     },
     "execution_count": 8,
     "metadata": {},
     "output_type": "execute_result"
    }
   ],
   "source": [
    "tweets = sample._source\n",
    "ids = sample._id\n",
    "ids.name = 'id'\n",
    "\n",
    "# Loop on all tweets to get all different fields\n",
    "columns = set()\n",
    "for tweet in tweets:\n",
    "    if tweet.keys() is not None:\n",
    "        columns.update(tweet.keys())\n",
    "columns = list(columns)\n",
    "\n",
    "# Pre-allocate the DataFrame, otherwise it takes too much time to fill\n",
    "# Don't use the tweets IDs for filling the DF as they are not unique !\n",
    "df = pd.DataFrame(columns=columns, index=range(len(ids)))\n",
    "df.head()"
   ]
  },
  {
   "cell_type": "code",
   "execution_count": 9,
   "metadata": {
    "collapsed": false,
    "scrolled": false
   },
   "outputs": [
    {
     "data": {
      "text/html": [
       "<div>\n",
       "<table border=\"1\" class=\"dataframe\">\n",
       "  <thead>\n",
       "    <tr style=\"text-align: right;\">\n",
       "      <th></th>\n",
       "      <th>source_verified</th>\n",
       "      <th>type</th>\n",
       "      <th>permalink</th>\n",
       "      <th>author_gender</th>\n",
       "      <th>author_link</th>\n",
       "      <th>sequence</th>\n",
       "      <th>source_parsed_posts_max</th>\n",
       "      <th>source_content_length</th>\n",
       "      <th>source_handle</th>\n",
       "      <th>source_setting_update_strategy</th>\n",
       "      <th>...</th>\n",
       "      <th>source_last_updated</th>\n",
       "      <th>mentions</th>\n",
       "      <th>version</th>\n",
       "      <th>shares</th>\n",
       "      <th>source_location</th>\n",
       "      <th>source_update_interval</th>\n",
       "      <th>source_publisher_subtype</th>\n",
       "      <th>date_found</th>\n",
       "      <th>source_likes</th>\n",
       "      <th>main_format</th>\n",
       "    </tr>\n",
       "    <tr>\n",
       "      <th>id</th>\n",
       "      <th></th>\n",
       "      <th></th>\n",
       "      <th></th>\n",
       "      <th></th>\n",
       "      <th></th>\n",
       "      <th></th>\n",
       "      <th></th>\n",
       "      <th></th>\n",
       "      <th></th>\n",
       "      <th></th>\n",
       "      <th></th>\n",
       "      <th></th>\n",
       "      <th></th>\n",
       "      <th></th>\n",
       "      <th></th>\n",
       "      <th></th>\n",
       "      <th></th>\n",
       "      <th></th>\n",
       "      <th></th>\n",
       "      <th></th>\n",
       "      <th></th>\n",
       "    </tr>\n",
       "  </thead>\n",
       "  <tbody>\n",
       "    <tr>\n",
       "      <th>1459505293000008960</th>\n",
       "      <td>False</td>\n",
       "      <td>POST</td>\n",
       "      <td>https://twitter.com/bba_allmedia/status/715843...</td>\n",
       "      <td>UNKNOWN</td>\n",
       "      <td>https://twitter.com/bba_allmedia</td>\n",
       "      <td>1459505293000009032</td>\n",
       "      <td>0</td>\n",
       "      <td>270959</td>\n",
       "      <td>bba_allmedia</td>\n",
       "      <td>CYCLICAL</td>\n",
       "      <td>...</td>\n",
       "      <td>2015-12-11T13:08:19Z</td>\n",
       "      <td>NaN</td>\n",
       "      <td>5.1.683</td>\n",
       "      <td>NaN</td>\n",
       "      <td>Bremgarten</td>\n",
       "      <td>3600000</td>\n",
       "      <td>twitter</td>\n",
       "      <td>2016-04-01T10:08:13Z</td>\n",
       "      <td>0</td>\n",
       "      <td>TEXT</td>\n",
       "    </tr>\n",
       "    <tr>\n",
       "      <th>1459504074000012800</th>\n",
       "      <td>False</td>\n",
       "      <td>POST</td>\n",
       "      <td>https://twitter.com/BadZurzach/status/71583797...</td>\n",
       "      <td>UNKNOWN</td>\n",
       "      <td>https://twitter.com/BadZurzach</td>\n",
       "      <td>1459504074000012794</td>\n",
       "      <td>20</td>\n",
       "      <td>278303</td>\n",
       "      <td>BadZurzach</td>\n",
       "      <td>CYCLICAL</td>\n",
       "      <td>...</td>\n",
       "      <td>2015-12-16T23:41:18Z</td>\n",
       "      <td>NaN</td>\n",
       "      <td>5.1.683</td>\n",
       "      <td>NaN</td>\n",
       "      <td>Bad Zurzach</td>\n",
       "      <td>3600000</td>\n",
       "      <td>twitter</td>\n",
       "      <td>2016-04-01T09:47:54Z</td>\n",
       "      <td>0</td>\n",
       "      <td>TEXT</td>\n",
       "    </tr>\n",
       "    <tr>\n",
       "      <th>1459547684000013568</th>\n",
       "      <td>False</td>\n",
       "      <td>POST</td>\n",
       "      <td>https://twitter.com/AurelieL34/status/71601995...</td>\n",
       "      <td>UNKNOWN</td>\n",
       "      <td>https://twitter.com/AurelieL34</td>\n",
       "      <td>1459547684000013471</td>\n",
       "      <td>20</td>\n",
       "      <td>301219</td>\n",
       "      <td>AurelieL34</td>\n",
       "      <td>CYCLICAL</td>\n",
       "      <td>...</td>\n",
       "      <td>2015-12-12T13:24:33Z</td>\n",
       "      <td>NaN</td>\n",
       "      <td>5.1.683</td>\n",
       "      <td>NaN</td>\n",
       "      <td>Ginevra</td>\n",
       "      <td>3600000</td>\n",
       "      <td>twitter</td>\n",
       "      <td>2016-04-01T21:54:44Z</td>\n",
       "      <td>0</td>\n",
       "      <td>TEXT</td>\n",
       "    </tr>\n",
       "    <tr>\n",
       "      <th>1459478188000002816</th>\n",
       "      <td>True</td>\n",
       "      <td>POST</td>\n",
       "      <td>https://twitter.com/ALFEEL_GOOD/status/7157293...</td>\n",
       "      <td>UNKNOWN</td>\n",
       "      <td>https://twitter.com/ALFEEL_GOOD</td>\n",
       "      <td>1459478188000002741</td>\n",
       "      <td>0</td>\n",
       "      <td>298888</td>\n",
       "      <td>ALFEEL_GOOD</td>\n",
       "      <td>CYCLICAL</td>\n",
       "      <td>...</td>\n",
       "      <td>2015-09-29T22:16:46Z</td>\n",
       "      <td>ZHA_News</td>\n",
       "      <td>5.1.681</td>\n",
       "      <td>NaN</td>\n",
       "      <td>Lucerna</td>\n",
       "      <td>3600000</td>\n",
       "      <td>twitter</td>\n",
       "      <td>2016-04-01T02:36:28Z</td>\n",
       "      <td>0</td>\n",
       "      <td>TEXT</td>\n",
       "    </tr>\n",
       "    <tr>\n",
       "      <th>1459519767000012288</th>\n",
       "      <td>False</td>\n",
       "      <td>POST</td>\n",
       "      <td>https://twitter.com/velo_dominik/status/715903...</td>\n",
       "      <td>MALE</td>\n",
       "      <td>https://twitter.com/velo_dominik</td>\n",
       "      <td>1459519767000012179</td>\n",
       "      <td>20</td>\n",
       "      <td>296657</td>\n",
       "      <td>velo_dominik</td>\n",
       "      <td>CYCLICAL</td>\n",
       "      <td>...</td>\n",
       "      <td>2015-12-09T11:46:26Z</td>\n",
       "      <td>NaN</td>\n",
       "      <td>5.1.683</td>\n",
       "      <td>NaN</td>\n",
       "      <td>Hochdorf</td>\n",
       "      <td>3600000</td>\n",
       "      <td>twitter</td>\n",
       "      <td>2016-04-01T14:09:27Z</td>\n",
       "      <td>0</td>\n",
       "      <td>TEXT</td>\n",
       "    </tr>\n",
       "  </tbody>\n",
       "</table>\n",
       "<p>5 rows × 70 columns</p>\n",
       "</div>"
      ],
      "text/plain": [
       "                    source_verified  type  \\\n",
       "id                                          \n",
       "1459505293000008960           False  POST   \n",
       "1459504074000012800           False  POST   \n",
       "1459547684000013568           False  POST   \n",
       "1459478188000002816            True  POST   \n",
       "1459519767000012288           False  POST   \n",
       "\n",
       "                                                             permalink  \\\n",
       "id                                                                       \n",
       "1459505293000008960  https://twitter.com/bba_allmedia/status/715843...   \n",
       "1459504074000012800  https://twitter.com/BadZurzach/status/71583797...   \n",
       "1459547684000013568  https://twitter.com/AurelieL34/status/71601995...   \n",
       "1459478188000002816  https://twitter.com/ALFEEL_GOOD/status/7157293...   \n",
       "1459519767000012288  https://twitter.com/velo_dominik/status/715903...   \n",
       "\n",
       "                    author_gender                       author_link  \\\n",
       "id                                                                    \n",
       "1459505293000008960       UNKNOWN  https://twitter.com/bba_allmedia   \n",
       "1459504074000012800       UNKNOWN    https://twitter.com/BadZurzach   \n",
       "1459547684000013568       UNKNOWN    https://twitter.com/AurelieL34   \n",
       "1459478188000002816       UNKNOWN   https://twitter.com/ALFEEL_GOOD   \n",
       "1459519767000012288          MALE  https://twitter.com/velo_dominik   \n",
       "\n",
       "                                sequence source_parsed_posts_max  \\\n",
       "id                                                                 \n",
       "1459505293000008960  1459505293000009032                       0   \n",
       "1459504074000012800  1459504074000012794                      20   \n",
       "1459547684000013568  1459547684000013471                      20   \n",
       "1459478188000002816  1459478188000002741                       0   \n",
       "1459519767000012288  1459519767000012179                      20   \n",
       "\n",
       "                    source_content_length source_handle  \\\n",
       "id                                                        \n",
       "1459505293000008960                270959  bba_allmedia   \n",
       "1459504074000012800                278303    BadZurzach   \n",
       "1459547684000013568                301219    AurelieL34   \n",
       "1459478188000002816                298888   ALFEEL_GOOD   \n",
       "1459519767000012288                296657  velo_dominik   \n",
       "\n",
       "                    source_setting_update_strategy     ...      \\\n",
       "id                                                     ...       \n",
       "1459505293000008960                       CYCLICAL     ...       \n",
       "1459504074000012800                       CYCLICAL     ...       \n",
       "1459547684000013568                       CYCLICAL     ...       \n",
       "1459478188000002816                       CYCLICAL     ...       \n",
       "1459519767000012288                       CYCLICAL     ...       \n",
       "\n",
       "                      source_last_updated  mentions  version shares  \\\n",
       "id                                                                    \n",
       "1459505293000008960  2015-12-11T13:08:19Z       NaN  5.1.683    NaN   \n",
       "1459504074000012800  2015-12-16T23:41:18Z       NaN  5.1.683    NaN   \n",
       "1459547684000013568  2015-12-12T13:24:33Z       NaN  5.1.683    NaN   \n",
       "1459478188000002816  2015-09-29T22:16:46Z  ZHA_News  5.1.681    NaN   \n",
       "1459519767000012288  2015-12-09T11:46:26Z       NaN  5.1.683    NaN   \n",
       "\n",
       "                    source_location source_update_interval  \\\n",
       "id                                                           \n",
       "1459505293000008960      Bremgarten                3600000   \n",
       "1459504074000012800     Bad Zurzach                3600000   \n",
       "1459547684000013568         Ginevra                3600000   \n",
       "1459478188000002816         Lucerna                3600000   \n",
       "1459519767000012288        Hochdorf                3600000   \n",
       "\n",
       "                    source_publisher_subtype            date_found  \\\n",
       "id                                                                   \n",
       "1459505293000008960                  twitter  2016-04-01T10:08:13Z   \n",
       "1459504074000012800                  twitter  2016-04-01T09:47:54Z   \n",
       "1459547684000013568                  twitter  2016-04-01T21:54:44Z   \n",
       "1459478188000002816                  twitter  2016-04-01T02:36:28Z   \n",
       "1459519767000012288                  twitter  2016-04-01T14:09:27Z   \n",
       "\n",
       "                    source_likes main_format  \n",
       "id                                            \n",
       "1459505293000008960            0        TEXT  \n",
       "1459504074000012800            0        TEXT  \n",
       "1459547684000013568            0        TEXT  \n",
       "1459478188000002816            0        TEXT  \n",
       "1459519767000012288            0        TEXT  \n",
       "\n",
       "[5 rows x 70 columns]"
      ]
     },
     "execution_count": 9,
     "metadata": {},
     "output_type": "execute_result"
    }
   ],
   "source": [
    "for i in range(len(tweets)):\n",
    "    for key, value in tweets[i].items():\n",
    "        # Convert lists to strings\n",
    "        if type(value) == list:\n",
    "            tweets[i][key] = ' '.join(value)\n",
    "        \n",
    "    df.loc[i] = pd.Series(tweets[i])\n",
    "\n",
    "# Give the tweets their original IDs\n",
    "df.index = ids\n",
    "\n",
    "df.head()"
   ]
  },
  {
   "cell_type": "markdown",
   "metadata": {},
   "source": [
    "What are the users' locations for these tweets?"
   ]
  },
  {
   "cell_type": "code",
   "execution_count": 10,
   "metadata": {
    "collapsed": false,
    "scrolled": false
   },
   "outputs": [
    {
     "data": {
      "text/plain": [
       "Switzerland    9002\n",
       "Suisse         2325\n",
       "Zürich         2298\n",
       "Schweiz        1813\n",
       "Geneva         1538\n",
       "Name: source_location, dtype: int64"
      ]
     },
     "execution_count": 10,
     "metadata": {},
     "output_type": "execute_result"
    }
   ],
   "source": [
    "df['source_location'].value_counts().head()"
   ]
  },
  {
   "cell_type": "markdown",
   "metadata": {},
   "source": [
    "What are the sentiments associated to the tweets ?"
   ]
  },
  {
   "cell_type": "code",
   "execution_count": 11,
   "metadata": {
    "collapsed": false
   },
   "outputs": [
    {
     "data": {
      "text/plain": [
       "NEUTRAL     18708\n",
       "POSITIVE     4130\n",
       "NEGATIVE     1597\n",
       "Name: sentiment, dtype: int64"
      ]
     },
     "execution_count": 11,
     "metadata": {},
     "output_type": "execute_result"
    }
   ],
   "source": [
    "df['sentiment'].value_counts()"
   ]
  },
  {
   "cell_type": "markdown",
   "metadata": {},
   "source": [
    "Let's extract a few tweets"
   ]
  },
  {
   "cell_type": "code",
   "execution_count": 12,
   "metadata": {
    "collapsed": false
   },
   "outputs": [
    {
     "data": {
      "text/plain": [
       "id\n",
       "1459505293000008960    Aktuellste Immoangebote http://tinyurl.com/cth...\n",
       "1459504074000012800    Du bist 6 - 14 Jahre alt & sprichst Schweizerd...\n",
       "1459547684000013568    EN DIRECT sur #Periscope : Avec awa la blg htt...\n",
       "1459478188000002816    @ZHA_News https://youtu.be/UxQmxIm4q1s  Rest i...\n",
       "1459519767000012288    Unterwegs rastet der Velofahrer gerne bei eine...\n",
       "1459521768000012032    Come and join me at our testing Roadshow on Ap...\n",
       "1459547783000011008                Bad Apple! pic.twitter.com/Xad2aVOHFd\n",
       "1459511039000003840    Number crunching for the past week - 1 new unf...\n",
       "1459506286000000512                   @ElisaaNunees poisson d'avril laul\n",
       "1459492313000010240    Just posted a photo @ Langnau im Emmental http...\n",
       "Name: main, dtype: object"
      ]
     },
     "execution_count": 12,
     "metadata": {},
     "output_type": "execute_result"
    }
   ],
   "source": [
    "df['main'].head(10)"
   ]
  },
  {
   "cell_type": "markdown",
   "metadata": {},
   "source": [
    "In what languages are they ?"
   ]
  },
  {
   "cell_type": "code",
   "execution_count": 13,
   "metadata": {
    "collapsed": false
   },
   "outputs": [
    {
     "data": {
      "text/plain": [
       "en     9608\n",
       "de     6656\n",
       "fr     4835\n",
       "es     1446\n",
       "und     898\n",
       "it      498\n",
       "pt      223\n",
       "tl      134\n",
       "in      133\n",
       "ht      116\n",
       "pl      111\n",
       "tr      101\n",
       "nl       94\n",
       "ja       90\n",
       "ru       64\n",
       "ar       52\n",
       "da       47\n",
       "et       45\n",
       "sv       42\n",
       "ko       26\n",
       "fi       23\n",
       "no       22\n",
       "hi       22\n",
       "sl       13\n",
       "lv       10\n",
       "hu        7\n",
       "uk        5\n",
       "lt        5\n",
       "el        2\n",
       "vi        2\n",
       "is        2\n",
       "bg        1\n",
       "Name: lang, dtype: int64"
      ]
     },
     "execution_count": 13,
     "metadata": {},
     "output_type": "execute_result"
    }
   ],
   "source": [
    "df['lang'].value_counts()"
   ]
  },
  {
   "cell_type": "markdown",
   "metadata": {},
   "source": [
    "For this first part, keep only the english tweets"
   ]
  },
  {
   "cell_type": "code",
   "execution_count": 14,
   "metadata": {
    "collapsed": false
   },
   "outputs": [
    {
     "data": {
      "text/plain": [
       "id\n",
       "1459478188000002816    @ZHA_News https://youtu.be/UxQmxIm4q1s  Rest i...\n",
       "1459521768000012032    Come and join me at our testing Roadshow on Ap...\n",
       "1459547783000011008                Bad Apple! pic.twitter.com/Xad2aVOHFd\n",
       "1459511039000003840    Number crunching for the past week - 1 new unf...\n",
       "1459492313000010240    Just posted a photo @ Langnau im Emmental http...\n",
       "1459518158000004352    Europe's New Mars Mission Bringing NASA Radios...\n",
       "1459525602000004096    I liked a @YouTube video http://youtu.be/LE1WG...\n",
       "1459518063000005120    NASA's Spitzer Maps Climate Patterns on a Supe...\n",
       "1459498184000011264    Microsoft’s HoloLens now available to develope...\n",
       "1459527636000012032    \"i will leave tomorrow's problem for tomorrow'...\n",
       "Name: main, dtype: object"
      ]
     },
     "execution_count": 14,
     "metadata": {},
     "output_type": "execute_result"
    }
   ],
   "source": [
    "df_en = df[df.lang == 'en']\n",
    "df_en['main'].head(10)"
   ]
  },
  {
   "cell_type": "markdown",
   "metadata": {},
   "source": [
    "What about their sentiments ?"
   ]
  },
  {
   "cell_type": "code",
   "execution_count": 15,
   "metadata": {
    "collapsed": false
   },
   "outputs": [
    {
     "data": {
      "text/plain": [
       "NEUTRAL     4513\n",
       "POSITIVE    3538\n",
       "NEGATIVE    1557\n",
       "Name: sentiment, dtype: int64"
      ]
     },
     "execution_count": 15,
     "metadata": {},
     "output_type": "execute_result"
    }
   ],
   "source": [
    "df_en['sentiment'].value_counts()"
   ]
  },
  {
   "cell_type": "code",
   "execution_count": 16,
   "metadata": {
    "collapsed": false
   },
   "outputs": [
    {
     "data": {
      "text/html": [
       "<div>\n",
       "<table border=\"1\" class=\"dataframe\">\n",
       "  <thead>\n",
       "    <tr style=\"text-align: right;\">\n",
       "      <th></th>\n",
       "      <th>source_location</th>\n",
       "      <th>sentiment</th>\n",
       "    </tr>\n",
       "    <tr>\n",
       "      <th>id</th>\n",
       "      <th></th>\n",
       "      <th></th>\n",
       "    </tr>\n",
       "  </thead>\n",
       "  <tbody>\n",
       "    <tr>\n",
       "      <th>1459478188000002816</th>\n",
       "      <td>Lucerna</td>\n",
       "      <td>POSITIVE</td>\n",
       "    </tr>\n",
       "    <tr>\n",
       "      <th>1459521768000012032</th>\n",
       "      <td>Ennetbürgen</td>\n",
       "      <td>POSITIVE</td>\n",
       "    </tr>\n",
       "    <tr>\n",
       "      <th>1459547783000011008</th>\n",
       "      <td>Suica</td>\n",
       "      <td>NEGATIVE</td>\n",
       "    </tr>\n",
       "    <tr>\n",
       "      <th>1459511039000003840</th>\n",
       "      <td>Arth</td>\n",
       "      <td>NEUTRAL</td>\n",
       "    </tr>\n",
       "    <tr>\n",
       "      <th>1459492313000010240</th>\n",
       "      <td>Langnau</td>\n",
       "      <td>NEUTRAL</td>\n",
       "    </tr>\n",
       "    <tr>\n",
       "      <th>1459518158000004352</th>\n",
       "      <td>Poschiavo</td>\n",
       "      <td>NEUTRAL</td>\n",
       "    </tr>\n",
       "    <tr>\n",
       "      <th>1459525602000004096</th>\n",
       "      <td>Laufen</td>\n",
       "      <td>POSITIVE</td>\n",
       "    </tr>\n",
       "    <tr>\n",
       "      <th>1459518063000005120</th>\n",
       "      <td>Poschiavo</td>\n",
       "      <td>POSITIVE</td>\n",
       "    </tr>\n",
       "    <tr>\n",
       "      <th>1459498184000011264</th>\n",
       "      <td>Poschiavo</td>\n",
       "      <td>POSITIVE</td>\n",
       "    </tr>\n",
       "    <tr>\n",
       "      <th>1459527636000012032</th>\n",
       "      <td>Schwyz</td>\n",
       "      <td>NEGATIVE</td>\n",
       "    </tr>\n",
       "  </tbody>\n",
       "</table>\n",
       "</div>"
      ],
      "text/plain": [
       "                    source_location sentiment\n",
       "id                                           \n",
       "1459478188000002816         Lucerna  POSITIVE\n",
       "1459521768000012032     Ennetbürgen  POSITIVE\n",
       "1459547783000011008           Suica  NEGATIVE\n",
       "1459511039000003840            Arth   NEUTRAL\n",
       "1459492313000010240         Langnau   NEUTRAL\n",
       "1459518158000004352       Poschiavo   NEUTRAL\n",
       "1459525602000004096          Laufen  POSITIVE\n",
       "1459518063000005120       Poschiavo  POSITIVE\n",
       "1459498184000011264       Poschiavo  POSITIVE\n",
       "1459527636000012032          Schwyz  NEGATIVE"
      ]
     },
     "execution_count": 16,
     "metadata": {},
     "output_type": "execute_result"
    }
   ],
   "source": [
    "tweets = df_en[['source_location', 'sentiment']]\n",
    "tweets.head(10)"
   ]
  },
  {
   "cell_type": "markdown",
   "metadata": {},
   "source": [
    "Okay, now we have to do this for the whole data set ! See twitter_extract_pandas.py file for the automated processing"
   ]
  }
 ],
 "metadata": {
  "anaconda-cloud": {},
  "kernelspec": {
   "display_name": "Python 3",
   "language": "python",
   "name": "python3"
  },
  "language_info": {
   "codemirror_mode": {
    "name": "ipython",
    "version": 3
   },
   "file_extension": ".py",
   "mimetype": "text/x-python",
   "name": "python",
   "nbconvert_exporter": "python",
   "pygments_lexer": "ipython3",
   "version": "3.5.2"
  }
 },
 "nbformat": 4,
 "nbformat_minor": 0
}
