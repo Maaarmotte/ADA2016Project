{
 "cells": [
  {
   "cell_type": "markdown",
   "metadata": {},
   "source": [
    "#### Extracting sentiments from instagram\n",
    "This is a description of the instragram data for future use. Note that it is almost the same steps as for Twitter. For comments, read the twitter\\_explore notebook."
   ]
  },
  {
   "cell_type": "code",
   "execution_count": 1,
   "metadata": {
    "collapsed": true
   },
   "outputs": [],
   "source": [
    "import pandas as pd"
   ]
  },
  {
   "cell_type": "code",
   "execution_count": 2,
   "metadata": {
    "collapsed": true
   },
   "outputs": [],
   "source": [
    "sample = pd.read_json('data/april/harvest3r_instagram_data_01-04_0.json')"
   ]
  },
  {
   "cell_type": "code",
   "execution_count": 3,
   "metadata": {
    "collapsed": false
   },
   "outputs": [
    {
     "data": {
      "text/html": [
       "<div>\n",
       "<table border=\"1\" class=\"dataframe\">\n",
       "  <thead>\n",
       "    <tr style=\"text-align: right;\">\n",
       "      <th></th>\n",
       "      <th>_id</th>\n",
       "      <th>_index</th>\n",
       "      <th>_score</th>\n",
       "      <th>_source</th>\n",
       "      <th>_type</th>\n",
       "    </tr>\n",
       "  </thead>\n",
       "  <tbody>\n",
       "    <tr>\n",
       "      <th>0</th>\n",
       "      <td>1459531756000008960</td>\n",
       "      <td>merged_content_2016_04_01_to_2016_04_14</td>\n",
       "      <td>0.095342</td>\n",
       "      <td>{'source_favicon_height': 0, 'source_publisher...</td>\n",
       "      <td>content</td>\n",
       "    </tr>\n",
       "    <tr>\n",
       "      <th>1</th>\n",
       "      <td>1459531305000012288</td>\n",
       "      <td>merged_content_2016_04_01_to_2016_04_14</td>\n",
       "      <td>0.088152</td>\n",
       "      <td>{'source_favicon_height': 0, 'source_publisher...</td>\n",
       "      <td>content</td>\n",
       "    </tr>\n",
       "    <tr>\n",
       "      <th>2</th>\n",
       "      <td>1459532576000012288</td>\n",
       "      <td>merged_content_2016_04_01_to_2016_04_14</td>\n",
       "      <td>0.086427</td>\n",
       "      <td>{'source_favicon_height': 0, 'source_publisher...</td>\n",
       "      <td>content</td>\n",
       "    </tr>\n",
       "    <tr>\n",
       "      <th>3</th>\n",
       "      <td>1459540901000011264</td>\n",
       "      <td>merged_content_2016_04_01_to_2016_04_14</td>\n",
       "      <td>0.078299</td>\n",
       "      <td>{'source_favicon_height': 0, 'source_publisher...</td>\n",
       "      <td>content</td>\n",
       "    </tr>\n",
       "    <tr>\n",
       "      <th>4</th>\n",
       "      <td>1459528634000012544</td>\n",
       "      <td>merged_content_2016_04_01_to_2016_04_14</td>\n",
       "      <td>0.078229</td>\n",
       "      <td>{'source_favicon_height': 0, 'source_publisher...</td>\n",
       "      <td>content</td>\n",
       "    </tr>\n",
       "  </tbody>\n",
       "</table>\n",
       "</div>"
      ],
      "text/plain": [
       "                   _id                                   _index    _score  \\\n",
       "0  1459531756000008960  merged_content_2016_04_01_to_2016_04_14  0.095342   \n",
       "1  1459531305000012288  merged_content_2016_04_01_to_2016_04_14  0.088152   \n",
       "2  1459532576000012288  merged_content_2016_04_01_to_2016_04_14  0.086427   \n",
       "3  1459540901000011264  merged_content_2016_04_01_to_2016_04_14  0.078299   \n",
       "4  1459528634000012544  merged_content_2016_04_01_to_2016_04_14  0.078229   \n",
       "\n",
       "                                             _source    _type  \n",
       "0  {'source_favicon_height': 0, 'source_publisher...  content  \n",
       "1  {'source_favicon_height': 0, 'source_publisher...  content  \n",
       "2  {'source_favicon_height': 0, 'source_publisher...  content  \n",
       "3  {'source_favicon_height': 0, 'source_publisher...  content  \n",
       "4  {'source_favicon_height': 0, 'source_publisher...  content  "
      ]
     },
     "execution_count": 3,
     "metadata": {},
     "output_type": "execute_result"
    }
   ],
   "source": [
    "sample.head()"
   ]
  },
  {
   "cell_type": "code",
   "execution_count": 4,
   "metadata": {
    "collapsed": false
   },
   "outputs": [
    {
     "data": {
      "text/plain": [
       "{'author_gender': 'MALE',\n",
       " 'author_handle': 'florent_official',\n",
       " 'author_link': 'https://www.instagram.com/florent_official/',\n",
       " 'author_name': 'Florent R. Photo-Videoprapher',\n",
       " 'bucket': 1459531500029,\n",
       " 'canonical': 'https://instagram.com/p/BDqoGyZQFKR/',\n",
       " 'comments': 0,\n",
       " 'date_found': '2016-04-01T17:29:16Z',\n",
       " 'detection_method': 'SOURCE',\n",
       " 'domain': 'instagram.com',\n",
       " 'hashcode': 'szXQ93dSHSSp0fNmvs4v_F0ySsU',\n",
       " 'image_height': 360,\n",
       " 'image_src': 'https://scontent-frt3-1.cdninstagram.com/t51.2885-15/e15/12317761_1717066748506273_1706016909_n.jpg?ig_cache_key=MTIxODk2MzAzNzQ0NTE4MjA5Nw%3D%3D.2',\n",
       " 'image_width': 640,\n",
       " 'index_method': 'PERMALINK_TASK',\n",
       " 'lang': 'en',\n",
       " 'likes': 0,\n",
       " 'main': \"——————————————————\\n•Ort/Location: -\\n•Kanton/Canton: -\\n•Land/Country: Schweiz/Switzerland\\n•Kamera/Camera: Iphone 6 Plus\\n•Video by: Me (@florent_official) ————————————————————\\n⬛️⬛️⬛️⬛️⬛️⬛️⬛️⬛️⬛️⬛️⬛️⬛️⬛️⬛️\\nFlorent R. Photographer on Socialmedia:\\n⬇️⬇️⬇️⬇️⬇️⬇️⬇️⬇️⬇️⬇️⬇️⬇️⬇️⬇️\\nFacebook Seite: Florent R. Photographer\\nFacebook Seite: SBB CFF FFS - Fotoseite\\nFacebook Privat: Florent Rx\\nInstagram: @sbb_cff_ffs_schweiz\\nInstagram: @florent_official\\nYoutube Kanal: @sbb_cff_ffs_schweiz's (BIO)\\nYoutube Kanal: @florent_official's (BIO)\\nWebsite: Coming soon!\\n————————————————————\\nÄhnliche Tags zur dieses Bild: #Schweiz #Switzerland #Swiss #Bern #Basel #inlovewithswitzerland #Switzerland_Vacations #switzerlandpictures #Super_Switzerland #wu_switzerland #worldunion #visitswitzerland #ig_switzerland #Feuerwehr #Polizei #Ambulance #rbs_ch #sbbcffffs\",\n",
       " 'main_authoritative': True,\n",
       " 'main_checksum': 'WXVLLktjt3QorGGxxD8QO7A6hJ0',\n",
       " 'main_format': 'TEXT',\n",
       " 'main_length': 839,\n",
       " 'metadata_score': 334,\n",
       " 'permalink': 'https://instagram.com/p/BDqoGyZQFKR/',\n",
       " 'permalink_redirect': 'https://instagram.com/p/BDqoGyZQFKR/',\n",
       " 'permalink_redirect_domain': 'instagram.com',\n",
       " 'permalink_redirect_site': 'instagram.com',\n",
       " 'published': '2016-04-01T17:28:59Z',\n",
       " 'resource': 'https://instagram.com/p/BDqoGyZQFKR',\n",
       " 'sentiment': 'POSITIVE',\n",
       " 'sequence': 1459531756000009008,\n",
       " 'sequence_range': 25829,\n",
       " 'site': 'instagram.com',\n",
       " 'source_content_length': 0,\n",
       " 'source_date_found': '2015-12-14T18:55:42Z',\n",
       " 'source_description': 'Florent R. Photographer',\n",
       " 'source_favicon_height': 0,\n",
       " 'source_favicon_width': 0,\n",
       " 'source_favorites': 0,\n",
       " 'source_followers': -1,\n",
       " 'source_following': 0,\n",
       " 'source_hashcode': 'SRKQZrUZf2DFrDIYuZ3Ysln0WpM',\n",
       " 'source_http_status': 0,\n",
       " 'source_image_height': 0,\n",
       " 'source_image_width': 0,\n",
       " 'source_likes': 0,\n",
       " 'source_link': 'https://www.instagram.com/florent_official/',\n",
       " 'source_parsed_posts': 0,\n",
       " 'source_parsed_posts_max': 0,\n",
       " 'source_publisher_subtype': 'instagram',\n",
       " 'source_publisher_type': 'PHOTO',\n",
       " 'source_resource': 'https://instagram.com/florent_official',\n",
       " 'source_setting_author_policy': 'DEFAULT',\n",
       " 'source_setting_index_strategy': 'DEFAULT',\n",
       " 'source_setting_minimum_content_metadata_score': 0,\n",
       " 'source_setting_update_strategy': 'INDIRECT',\n",
       " 'source_spam_probability': 0.0,\n",
       " 'source_title': 'Florent R. Photographer',\n",
       " 'source_update_interval': 0,\n",
       " 'source_user_interactions': 0,\n",
       " 'source_verified': False,\n",
       " 'tags': ['Ambulance',\n",
       "  'Basel',\n",
       "  'Bern',\n",
       "  'Feuerwehr',\n",
       "  'Polizei',\n",
       "  'Schweiz',\n",
       "  'Super_Switzerland',\n",
       "  'Swiss',\n",
       "  'Switzerland',\n",
       "  'Switzerland_Vacations',\n",
       "  'ig_switzerland',\n",
       "  'inlovewithswitzerland',\n",
       "  'rbs_ch',\n",
       "  'sbbcffffs',\n",
       "  'switzerlandpictures',\n",
       "  'visitswitzerland',\n",
       "  'worldunion',\n",
       "  'wu_switzerland'],\n",
       " 'type': 'POST',\n",
       " 'version': '5.1.683'}"
      ]
     },
     "execution_count": 4,
     "metadata": {},
     "output_type": "execute_result"
    }
   ],
   "source": [
    "sample.loc[0]._source"
   ]
  },
  {
   "cell_type": "code",
   "execution_count": 5,
   "metadata": {
    "collapsed": false
   },
   "outputs": [
    {
     "data": {
      "text/plain": [
       "0    1459531756000008960\n",
       "1    1459531305000012288\n",
       "2    1459532576000012288\n",
       "3    1459540901000011264\n",
       "4    1459528634000012544\n",
       "Name: _id, dtype: int64"
      ]
     },
     "execution_count": 5,
     "metadata": {},
     "output_type": "execute_result"
    }
   ],
   "source": [
    "sample._id.head()"
   ]
  },
  {
   "cell_type": "code",
   "execution_count": 6,
   "metadata": {
    "collapsed": false
   },
   "outputs": [
    {
     "data": {
      "text/plain": [
       "1459487029000013568    17\n",
       "1459496502000006912    16\n",
       "1459545427000005632    15\n",
       "1459521935000008960    14\n",
       "1459518346000006912    14\n",
       "Name: _id, dtype: int64"
      ]
     },
     "execution_count": 6,
     "metadata": {},
     "output_type": "execute_result"
    }
   ],
   "source": [
    "sample._id.value_counts().head()"
   ]
  },
  {
   "cell_type": "code",
   "execution_count": 7,
   "metadata": {
    "collapsed": false
   },
   "outputs": [
    {
     "data": {
      "text/plain": [
       "6789"
      ]
     },
     "execution_count": 7,
     "metadata": {},
     "output_type": "execute_result"
    }
   ],
   "source": [
    "len(sample._source)"
   ]
  },
  {
   "cell_type": "code",
   "execution_count": 8,
   "metadata": {
    "collapsed": false
   },
   "outputs": [
    {
     "data": {
      "text/html": [
       "<div>\n",
       "<table border=\"1\" class=\"dataframe\">\n",
       "  <thead>\n",
       "    <tr style=\"text-align: right;\">\n",
       "      <th></th>\n",
       "      <th>mentions</th>\n",
       "      <th>source_publisher_type</th>\n",
       "      <th>lang</th>\n",
       "      <th>source_setting_update_strategy</th>\n",
       "      <th>tags</th>\n",
       "      <th>sequence</th>\n",
       "      <th>source_favicon_width</th>\n",
       "      <th>source_likes</th>\n",
       "      <th>bucket</th>\n",
       "      <th>source_image_src</th>\n",
       "      <th>...</th>\n",
       "      <th>site</th>\n",
       "      <th>author_handle</th>\n",
       "      <th>source_setting_minimum_content_metadata_score</th>\n",
       "      <th>source_http_status</th>\n",
       "      <th>source_verified</th>\n",
       "      <th>source_link</th>\n",
       "      <th>permalink_redirect</th>\n",
       "      <th>main_length</th>\n",
       "      <th>hashcode</th>\n",
       "      <th>source_title</th>\n",
       "    </tr>\n",
       "  </thead>\n",
       "  <tbody>\n",
       "    <tr>\n",
       "      <th>0</th>\n",
       "      <td>NaN</td>\n",
       "      <td>NaN</td>\n",
       "      <td>NaN</td>\n",
       "      <td>NaN</td>\n",
       "      <td>NaN</td>\n",
       "      <td>NaN</td>\n",
       "      <td>NaN</td>\n",
       "      <td>NaN</td>\n",
       "      <td>NaN</td>\n",
       "      <td>NaN</td>\n",
       "      <td>...</td>\n",
       "      <td>NaN</td>\n",
       "      <td>NaN</td>\n",
       "      <td>NaN</td>\n",
       "      <td>NaN</td>\n",
       "      <td>NaN</td>\n",
       "      <td>NaN</td>\n",
       "      <td>NaN</td>\n",
       "      <td>NaN</td>\n",
       "      <td>NaN</td>\n",
       "      <td>NaN</td>\n",
       "    </tr>\n",
       "    <tr>\n",
       "      <th>1</th>\n",
       "      <td>NaN</td>\n",
       "      <td>NaN</td>\n",
       "      <td>NaN</td>\n",
       "      <td>NaN</td>\n",
       "      <td>NaN</td>\n",
       "      <td>NaN</td>\n",
       "      <td>NaN</td>\n",
       "      <td>NaN</td>\n",
       "      <td>NaN</td>\n",
       "      <td>NaN</td>\n",
       "      <td>...</td>\n",
       "      <td>NaN</td>\n",
       "      <td>NaN</td>\n",
       "      <td>NaN</td>\n",
       "      <td>NaN</td>\n",
       "      <td>NaN</td>\n",
       "      <td>NaN</td>\n",
       "      <td>NaN</td>\n",
       "      <td>NaN</td>\n",
       "      <td>NaN</td>\n",
       "      <td>NaN</td>\n",
       "    </tr>\n",
       "    <tr>\n",
       "      <th>2</th>\n",
       "      <td>NaN</td>\n",
       "      <td>NaN</td>\n",
       "      <td>NaN</td>\n",
       "      <td>NaN</td>\n",
       "      <td>NaN</td>\n",
       "      <td>NaN</td>\n",
       "      <td>NaN</td>\n",
       "      <td>NaN</td>\n",
       "      <td>NaN</td>\n",
       "      <td>NaN</td>\n",
       "      <td>...</td>\n",
       "      <td>NaN</td>\n",
       "      <td>NaN</td>\n",
       "      <td>NaN</td>\n",
       "      <td>NaN</td>\n",
       "      <td>NaN</td>\n",
       "      <td>NaN</td>\n",
       "      <td>NaN</td>\n",
       "      <td>NaN</td>\n",
       "      <td>NaN</td>\n",
       "      <td>NaN</td>\n",
       "    </tr>\n",
       "    <tr>\n",
       "      <th>3</th>\n",
       "      <td>NaN</td>\n",
       "      <td>NaN</td>\n",
       "      <td>NaN</td>\n",
       "      <td>NaN</td>\n",
       "      <td>NaN</td>\n",
       "      <td>NaN</td>\n",
       "      <td>NaN</td>\n",
       "      <td>NaN</td>\n",
       "      <td>NaN</td>\n",
       "      <td>NaN</td>\n",
       "      <td>...</td>\n",
       "      <td>NaN</td>\n",
       "      <td>NaN</td>\n",
       "      <td>NaN</td>\n",
       "      <td>NaN</td>\n",
       "      <td>NaN</td>\n",
       "      <td>NaN</td>\n",
       "      <td>NaN</td>\n",
       "      <td>NaN</td>\n",
       "      <td>NaN</td>\n",
       "      <td>NaN</td>\n",
       "    </tr>\n",
       "    <tr>\n",
       "      <th>4</th>\n",
       "      <td>NaN</td>\n",
       "      <td>NaN</td>\n",
       "      <td>NaN</td>\n",
       "      <td>NaN</td>\n",
       "      <td>NaN</td>\n",
       "      <td>NaN</td>\n",
       "      <td>NaN</td>\n",
       "      <td>NaN</td>\n",
       "      <td>NaN</td>\n",
       "      <td>NaN</td>\n",
       "      <td>...</td>\n",
       "      <td>NaN</td>\n",
       "      <td>NaN</td>\n",
       "      <td>NaN</td>\n",
       "      <td>NaN</td>\n",
       "      <td>NaN</td>\n",
       "      <td>NaN</td>\n",
       "      <td>NaN</td>\n",
       "      <td>NaN</td>\n",
       "      <td>NaN</td>\n",
       "      <td>NaN</td>\n",
       "    </tr>\n",
       "  </tbody>\n",
       "</table>\n",
       "<p>5 rows × 73 columns</p>\n",
       "</div>"
      ],
      "text/plain": [
       "  mentions source_publisher_type lang source_setting_update_strategy tags  \\\n",
       "0      NaN                   NaN  NaN                            NaN  NaN   \n",
       "1      NaN                   NaN  NaN                            NaN  NaN   \n",
       "2      NaN                   NaN  NaN                            NaN  NaN   \n",
       "3      NaN                   NaN  NaN                            NaN  NaN   \n",
       "4      NaN                   NaN  NaN                            NaN  NaN   \n",
       "\n",
       "  sequence source_favicon_width source_likes bucket source_image_src  \\\n",
       "0      NaN                  NaN          NaN    NaN              NaN   \n",
       "1      NaN                  NaN          NaN    NaN              NaN   \n",
       "2      NaN                  NaN          NaN    NaN              NaN   \n",
       "3      NaN                  NaN          NaN    NaN              NaN   \n",
       "4      NaN                  NaN          NaN    NaN              NaN   \n",
       "\n",
       "      ...      site author_handle  \\\n",
       "0     ...       NaN           NaN   \n",
       "1     ...       NaN           NaN   \n",
       "2     ...       NaN           NaN   \n",
       "3     ...       NaN           NaN   \n",
       "4     ...       NaN           NaN   \n",
       "\n",
       "  source_setting_minimum_content_metadata_score source_http_status  \\\n",
       "0                                           NaN                NaN   \n",
       "1                                           NaN                NaN   \n",
       "2                                           NaN                NaN   \n",
       "3                                           NaN                NaN   \n",
       "4                                           NaN                NaN   \n",
       "\n",
       "  source_verified source_link permalink_redirect main_length hashcode  \\\n",
       "0             NaN         NaN                NaN         NaN      NaN   \n",
       "1             NaN         NaN                NaN         NaN      NaN   \n",
       "2             NaN         NaN                NaN         NaN      NaN   \n",
       "3             NaN         NaN                NaN         NaN      NaN   \n",
       "4             NaN         NaN                NaN         NaN      NaN   \n",
       "\n",
       "  source_title  \n",
       "0          NaN  \n",
       "1          NaN  \n",
       "2          NaN  \n",
       "3          NaN  \n",
       "4          NaN  \n",
       "\n",
       "[5 rows x 73 columns]"
      ]
     },
     "execution_count": 8,
     "metadata": {},
     "output_type": "execute_result"
    }
   ],
   "source": [
    "elems = sample._source\n",
    "ids = sample._id\n",
    "ids.name = 'id'\n",
    "\n",
    "# Loop on all elemements to get all different fields\n",
    "columns = set()\n",
    "for elem in elems:\n",
    "    if elem.keys() is not None:\n",
    "        columns.update(elem.keys())\n",
    "columns = list(columns)\n",
    "\n",
    "# Pre-allocate the DataFrame, otherwise it takes too much time to fill\n",
    "# Don't use the elements IDs for filling the DF as they are not unique !\n",
    "df = pd.DataFrame(columns=columns, index=range(len(ids)))\n",
    "df.head()"
   ]
  },
  {
   "cell_type": "code",
   "execution_count": null,
   "metadata": {
    "collapsed": false
   },
   "outputs": [],
   "source": [
    "for i in range(len(elems)):\n",
    "    for key, value in elems[i].items():\n",
    "        # Convert lists to strings\n",
    "        if type(value) == list:\n",
    "            elems[i][key] = ' '.join(value)\n",
    "        \n",
    "    df.loc[i] = pd.Series(elems[i])\n",
    "\n",
    "# Give the elements their original IDs\n",
    "df.index = ids\n",
    "\n",
    "df.head()"
   ]
  },
  {
   "cell_type": "code",
   "execution_count": 10,
   "metadata": {
    "collapsed": false
   },
   "outputs": [
    {
     "data": {
      "text/plain": [
       "id\n",
       "1459531756000008960    Ambulance Basel Bern Feuerwehr Polizei Schweiz...\n",
       "1459531305000012288    PhotoDuJour amazingswitzerland ig_swiss igdail...\n",
       "1459532576000012288    Super_Switzerland Switzerland_Vacations awesom...\n",
       "1459540901000011264    aargau ag art baden badencity badencityaargau ...\n",
       "1459528634000012544    boat ig_swiss ig_switzerland instalucerne inth...\n",
       "Name: tags, dtype: object"
      ]
     },
     "execution_count": 10,
     "metadata": {},
     "output_type": "execute_result"
    }
   ],
   "source": [
    "df['tags'].head()"
   ]
  },
  {
   "cell_type": "markdown",
   "metadata": {},
   "source": [
    "Again, we don't have any gelolocalization. But the 'tags' field generally contain the location where the picture has been taken, which is a good start."
   ]
  },
  {
   "cell_type": "code",
   "execution_count": null,
   "metadata": {
    "collapsed": true
   },
   "outputs": [],
   "source": []
  }
 ],
 "metadata": {
  "anaconda-cloud": {},
  "kernelspec": {
   "display_name": "Python [Root]",
   "language": "python",
   "name": "Python [Root]"
  },
  "language_info": {
   "codemirror_mode": {
    "name": "ipython",
    "version": 3
   },
   "file_extension": ".py",
   "mimetype": "text/x-python",
   "name": "python",
   "nbconvert_exporter": "python",
   "pygments_lexer": "ipython3",
   "version": "3.5.2"
  }
 },
 "nbformat": 4,
 "nbformat_minor": 0
}
