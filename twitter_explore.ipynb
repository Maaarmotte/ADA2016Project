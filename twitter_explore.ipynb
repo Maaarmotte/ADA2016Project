{
 "cells": [
  {
   "cell_type": "markdown",
   "metadata": {},
   "source": [
    "#### Extracting sentiments from tweets\n",
    "This is an explanation on how to extract the tweets sentiments. It will extract them for the month of April, which takes time. You can find these data pickled in the tweets_en_april.pkl file"
   ]
  },
  {
   "cell_type": "code",
   "execution_count": 1,
   "metadata": {
    "collapsed": false
   },
   "outputs": [],
   "source": [
    "import pandas as pd\n",
    "import twitter_extract"
   ]
  },
  {
   "cell_type": "code",
   "execution_count": 2,
   "metadata": {
    "collapsed": true
   },
   "outputs": [],
   "source": [
    "sample = pd.read_json('data/april/harvest3r_twitter_data_01-04_0.json')"
   ]
  },
  {
   "cell_type": "markdown",
   "metadata": {},
   "source": [
    "What kind of data are present in a tweet?"
   ]
  },
  {
   "cell_type": "code",
   "execution_count": 3,
   "metadata": {
    "collapsed": false
   },
   "outputs": [
    {
     "data": {
      "text/html": [
       "<div>\n",
       "<table border=\"1\" class=\"dataframe\">\n",
       "  <thead>\n",
       "    <tr style=\"text-align: right;\">\n",
       "      <th></th>\n",
       "      <th>_id</th>\n",
       "      <th>_index</th>\n",
       "      <th>_score</th>\n",
       "      <th>_source</th>\n",
       "      <th>_type</th>\n",
       "    </tr>\n",
       "  </thead>\n",
       "  <tbody>\n",
       "    <tr>\n",
       "      <th>0</th>\n",
       "      <td>1459505293000008960</td>\n",
       "      <td>merged_content_2016_04_01_to_2016_04_14</td>\n",
       "      <td>0.001139</td>\n",
       "      <td>{'source_following': 7, 'index_method': 'SOURC...</td>\n",
       "      <td>content</td>\n",
       "    </tr>\n",
       "    <tr>\n",
       "      <th>1</th>\n",
       "      <td>1459504074000012800</td>\n",
       "      <td>merged_content_2016_04_01_to_2016_04_14</td>\n",
       "      <td>0.001139</td>\n",
       "      <td>{'source_following': 112, 'index_method': 'SOU...</td>\n",
       "      <td>content</td>\n",
       "    </tr>\n",
       "    <tr>\n",
       "      <th>2</th>\n",
       "      <td>1459547684000013568</td>\n",
       "      <td>merged_content_2016_04_01_to_2016_04_14</td>\n",
       "      <td>0.001139</td>\n",
       "      <td>{'source_following': 243, 'index_method': 'SOU...</td>\n",
       "      <td>content</td>\n",
       "    </tr>\n",
       "    <tr>\n",
       "      <th>3</th>\n",
       "      <td>1459478188000002816</td>\n",
       "      <td>merged_content_2016_04_01_to_2016_04_14</td>\n",
       "      <td>0.001139</td>\n",
       "      <td>{'source_following': 564, 'index_method': 'SOU...</td>\n",
       "      <td>content</td>\n",
       "    </tr>\n",
       "    <tr>\n",
       "      <th>4</th>\n",
       "      <td>1459519767000012288</td>\n",
       "      <td>merged_content_2016_04_01_to_2016_04_14</td>\n",
       "      <td>0.001139</td>\n",
       "      <td>{'source_following': 525, 'index_method': 'SOU...</td>\n",
       "      <td>content</td>\n",
       "    </tr>\n",
       "  </tbody>\n",
       "</table>\n",
       "</div>"
      ],
      "text/plain": [
       "                   _id                                   _index    _score  \\\n",
       "0  1459505293000008960  merged_content_2016_04_01_to_2016_04_14  0.001139   \n",
       "1  1459504074000012800  merged_content_2016_04_01_to_2016_04_14  0.001139   \n",
       "2  1459547684000013568  merged_content_2016_04_01_to_2016_04_14  0.001139   \n",
       "3  1459478188000002816  merged_content_2016_04_01_to_2016_04_14  0.001139   \n",
       "4  1459519767000012288  merged_content_2016_04_01_to_2016_04_14  0.001139   \n",
       "\n",
       "                                             _source    _type  \n",
       "0  {'source_following': 7, 'index_method': 'SOURC...  content  \n",
       "1  {'source_following': 112, 'index_method': 'SOU...  content  \n",
       "2  {'source_following': 243, 'index_method': 'SOU...  content  \n",
       "3  {'source_following': 564, 'index_method': 'SOU...  content  \n",
       "4  {'source_following': 525, 'index_method': 'SOU...  content  "
      ]
     },
     "execution_count": 3,
     "metadata": {},
     "output_type": "execute_result"
    }
   ],
   "source": [
    "sample.head()"
   ]
  },
  {
   "cell_type": "markdown",
   "metadata": {},
   "source": [
    "We are mostly interested in the _source field"
   ]
  },
  {
   "cell_type": "code",
   "execution_count": 4,
   "metadata": {
    "collapsed": false,
    "scrolled": false
   },
   "outputs": [
    {
     "data": {
      "text/plain": [
       "{'author_avatar_img': 'https://pbs.twimg.com/profile_images/1195500897/Icon_BBA_bigger.png',\n",
       " 'author_gender': 'UNKNOWN',\n",
       " 'author_handle': 'bba_allmedia',\n",
       " 'author_link': 'https://twitter.com/bba_allmedia',\n",
       " 'author_name': 'BBA Allmedia',\n",
       " 'bucket': 1459505100099,\n",
       " 'canonical': 'https://twitter.com/bba_allmedia/status/715843057392992256',\n",
       " 'date_found': '2016-04-01T10:08:13Z',\n",
       " 'domain': 'twitter.com',\n",
       " 'hashcode': 'xxAm2o2O27-BV82_lRzXa2WTt-8',\n",
       " 'index_method': 'SOURCE_TASK_COMPOSITE',\n",
       " 'lang': 'de',\n",
       " 'links': ['https://t.co/s4g1d8KiWe'],\n",
       " 'main': 'Aktuellste Immoangebote http://tinyurl.com/cthce3f\\xa0',\n",
       " 'main_authoritative': True,\n",
       " 'main_checksum': '01uIm3DfvaRag9mywHxDhXv3hYM',\n",
       " 'main_format': 'TEXT',\n",
       " 'main_length': 51,\n",
       " 'metadata_score': 304,\n",
       " 'permalink': 'https://twitter.com/bba_allmedia/status/715843057392992256',\n",
       " 'published': '2016-04-01T10:07:39Z',\n",
       " 'resource': 'https://twitter.com/bba_allmedia/status/715843057392992256',\n",
       " 'sentiment': 'NEUTRAL',\n",
       " 'sequence': 1459505293000009032,\n",
       " 'sequence_range': 61199,\n",
       " 'site': 'twitter.com',\n",
       " 'source_content_checksum': 'WAc7G8EbDEqO_mh5QfW7iJCzWx0',\n",
       " 'source_content_length': 270959,\n",
       " 'source_date_found': '2015-12-11T13:08:16Z',\n",
       " 'source_description': '<p>Redaktion Bremgarter Bezirks-Anzeiger, Zugerstrasse 14, 5620 Bremgarten, Telefon 056 618 58 77, E-Mail: redaktion@bremgarterbezirksanzeiger.ch</p>',\n",
       " 'source_favicon_height': 0,\n",
       " 'source_favicon_width': 0,\n",
       " 'source_favorites': 0,\n",
       " 'source_followers': 33,\n",
       " 'source_following': 7,\n",
       " 'source_handle': 'bba_allmedia',\n",
       " 'source_hashcode': 'llCq0cOP5LXsxRV1Y2wVHYtvm3Q',\n",
       " 'source_http_status': 200,\n",
       " 'source_image_height': 0,\n",
       " 'source_image_src': 'https://pbs.twimg.com/profile_images/1195500897/Icon_BBA_400x400.png',\n",
       " 'source_image_width': 0,\n",
       " 'source_last_posted': '2014-12-22T12:28:07Z',\n",
       " 'source_last_published': '2015-12-11T13:08:19Z',\n",
       " 'source_last_updated': '2015-12-11T13:08:19Z',\n",
       " 'source_likes': 0,\n",
       " 'source_link': 'https://twitter.com/bba_allmedia',\n",
       " 'source_location': 'Bremgarten',\n",
       " 'source_parsed_posts': 0,\n",
       " 'source_parsed_posts_max': 0,\n",
       " 'source_profiles': ['http://www.bremgarterbezirksanzeiger.ch'],\n",
       " 'source_publisher_subtype': 'twitter',\n",
       " 'source_publisher_type': 'MICROBLOG',\n",
       " 'source_resource': 'https://twitter.com/bba_allmedia',\n",
       " 'source_setting_author_policy': 'DEFAULT',\n",
       " 'source_setting_index_strategy': 'DEFAULT',\n",
       " 'source_setting_minimum_content_metadata_score': 0,\n",
       " 'source_setting_update_strategy': 'CYCLICAL',\n",
       " 'source_spam_probability': 0.0,\n",
       " 'source_title': 'BBA Allmedia',\n",
       " 'source_update_interval': 3600000,\n",
       " 'source_user_interactions': 0,\n",
       " 'source_verified': False,\n",
       " 'type': 'POST',\n",
       " 'version': '5.1.683'}"
      ]
     },
     "execution_count": 4,
     "metadata": {},
     "output_type": "execute_result"
    }
   ],
   "source": [
    "sample.loc[0]._source"
   ]
  },
  {
   "cell_type": "markdown",
   "metadata": {},
   "source": [
    "We also have the tweets IDs"
   ]
  },
  {
   "cell_type": "code",
   "execution_count": 5,
   "metadata": {
    "collapsed": false
   },
   "outputs": [
    {
     "data": {
      "text/plain": [
       "0    1459505293000008960\n",
       "1    1459504074000012800\n",
       "2    1459547684000013568\n",
       "3    1459478188000002816\n",
       "4    1459519767000012288\n",
       "Name: _id, dtype: int64"
      ]
     },
     "execution_count": 5,
     "metadata": {},
     "output_type": "execute_result"
    }
   ],
   "source": [
    "sample._id.head()"
   ]
  },
  {
   "cell_type": "markdown",
   "metadata": {},
   "source": [
    "Problem: it seems that the tweets IDs are not unique !"
   ]
  },
  {
   "cell_type": "code",
   "execution_count": 6,
   "metadata": {
    "collapsed": false
   },
   "outputs": [
    {
     "data": {
      "text/plain": [
       "1459523793000004096    17\n",
       "1459523794000004096    11\n",
       "1459559363000008960     9\n",
       "1459538897000013568     7\n",
       "1459501304000013568     6\n",
       "Name: _id, dtype: int64"
      ]
     },
     "execution_count": 6,
     "metadata": {},
     "output_type": "execute_result"
    }
   ],
   "source": [
    "sample._id.value_counts().head()"
   ]
  },
  {
   "cell_type": "markdown",
   "metadata": {},
   "source": [
    "How many tweets for this day ?"
   ]
  },
  {
   "cell_type": "code",
   "execution_count": 7,
   "metadata": {
    "collapsed": false
   },
   "outputs": [
    {
     "data": {
      "text/plain": [
       "25333"
      ]
     },
     "execution_count": 7,
     "metadata": {},
     "output_type": "execute_result"
    }
   ],
   "source": [
    "len(sample._source)"
   ]
  },
  {
   "cell_type": "markdown",
   "metadata": {},
   "source": [
    "Create a new pre-allocated DataFrame"
   ]
  },
  {
   "cell_type": "code",
   "execution_count": 8,
   "metadata": {
    "collapsed": false
   },
   "outputs": [
    {
     "data": {
      "text/html": [
       "<div>\n",
       "<table border=\"1\" class=\"dataframe\">\n",
       "  <thead>\n",
       "    <tr style=\"text-align: right;\">\n",
       "      <th></th>\n",
       "      <th>source_following</th>\n",
       "      <th>index_method</th>\n",
       "      <th>author_name</th>\n",
       "      <th>main</th>\n",
       "      <th>source_spam_probability</th>\n",
       "      <th>source_image_height</th>\n",
       "      <th>source_assigned_tags</th>\n",
       "      <th>source_favicon_height</th>\n",
       "      <th>source_setting_update_strategy</th>\n",
       "      <th>source_last_posted</th>\n",
       "      <th>...</th>\n",
       "      <th>source_profiles</th>\n",
       "      <th>canonical</th>\n",
       "      <th>source_content_length</th>\n",
       "      <th>main_authoritative</th>\n",
       "      <th>source_verified</th>\n",
       "      <th>version</th>\n",
       "      <th>source_user_interactions</th>\n",
       "      <th>main_checksum</th>\n",
       "      <th>domain</th>\n",
       "      <th>site</th>\n",
       "    </tr>\n",
       "  </thead>\n",
       "  <tbody>\n",
       "    <tr>\n",
       "      <th>0</th>\n",
       "      <td>NaN</td>\n",
       "      <td>NaN</td>\n",
       "      <td>NaN</td>\n",
       "      <td>NaN</td>\n",
       "      <td>NaN</td>\n",
       "      <td>NaN</td>\n",
       "      <td>NaN</td>\n",
       "      <td>NaN</td>\n",
       "      <td>NaN</td>\n",
       "      <td>NaN</td>\n",
       "      <td>...</td>\n",
       "      <td>NaN</td>\n",
       "      <td>NaN</td>\n",
       "      <td>NaN</td>\n",
       "      <td>NaN</td>\n",
       "      <td>NaN</td>\n",
       "      <td>NaN</td>\n",
       "      <td>NaN</td>\n",
       "      <td>NaN</td>\n",
       "      <td>NaN</td>\n",
       "      <td>NaN</td>\n",
       "    </tr>\n",
       "    <tr>\n",
       "      <th>1</th>\n",
       "      <td>NaN</td>\n",
       "      <td>NaN</td>\n",
       "      <td>NaN</td>\n",
       "      <td>NaN</td>\n",
       "      <td>NaN</td>\n",
       "      <td>NaN</td>\n",
       "      <td>NaN</td>\n",
       "      <td>NaN</td>\n",
       "      <td>NaN</td>\n",
       "      <td>NaN</td>\n",
       "      <td>...</td>\n",
       "      <td>NaN</td>\n",
       "      <td>NaN</td>\n",
       "      <td>NaN</td>\n",
       "      <td>NaN</td>\n",
       "      <td>NaN</td>\n",
       "      <td>NaN</td>\n",
       "      <td>NaN</td>\n",
       "      <td>NaN</td>\n",
       "      <td>NaN</td>\n",
       "      <td>NaN</td>\n",
       "    </tr>\n",
       "    <tr>\n",
       "      <th>2</th>\n",
       "      <td>NaN</td>\n",
       "      <td>NaN</td>\n",
       "      <td>NaN</td>\n",
       "      <td>NaN</td>\n",
       "      <td>NaN</td>\n",
       "      <td>NaN</td>\n",
       "      <td>NaN</td>\n",
       "      <td>NaN</td>\n",
       "      <td>NaN</td>\n",
       "      <td>NaN</td>\n",
       "      <td>...</td>\n",
       "      <td>NaN</td>\n",
       "      <td>NaN</td>\n",
       "      <td>NaN</td>\n",
       "      <td>NaN</td>\n",
       "      <td>NaN</td>\n",
       "      <td>NaN</td>\n",
       "      <td>NaN</td>\n",
       "      <td>NaN</td>\n",
       "      <td>NaN</td>\n",
       "      <td>NaN</td>\n",
       "    </tr>\n",
       "    <tr>\n",
       "      <th>3</th>\n",
       "      <td>NaN</td>\n",
       "      <td>NaN</td>\n",
       "      <td>NaN</td>\n",
       "      <td>NaN</td>\n",
       "      <td>NaN</td>\n",
       "      <td>NaN</td>\n",
       "      <td>NaN</td>\n",
       "      <td>NaN</td>\n",
       "      <td>NaN</td>\n",
       "      <td>NaN</td>\n",
       "      <td>...</td>\n",
       "      <td>NaN</td>\n",
       "      <td>NaN</td>\n",
       "      <td>NaN</td>\n",
       "      <td>NaN</td>\n",
       "      <td>NaN</td>\n",
       "      <td>NaN</td>\n",
       "      <td>NaN</td>\n",
       "      <td>NaN</td>\n",
       "      <td>NaN</td>\n",
       "      <td>NaN</td>\n",
       "    </tr>\n",
       "    <tr>\n",
       "      <th>4</th>\n",
       "      <td>NaN</td>\n",
       "      <td>NaN</td>\n",
       "      <td>NaN</td>\n",
       "      <td>NaN</td>\n",
       "      <td>NaN</td>\n",
       "      <td>NaN</td>\n",
       "      <td>NaN</td>\n",
       "      <td>NaN</td>\n",
       "      <td>NaN</td>\n",
       "      <td>NaN</td>\n",
       "      <td>...</td>\n",
       "      <td>NaN</td>\n",
       "      <td>NaN</td>\n",
       "      <td>NaN</td>\n",
       "      <td>NaN</td>\n",
       "      <td>NaN</td>\n",
       "      <td>NaN</td>\n",
       "      <td>NaN</td>\n",
       "      <td>NaN</td>\n",
       "      <td>NaN</td>\n",
       "      <td>NaN</td>\n",
       "    </tr>\n",
       "  </tbody>\n",
       "</table>\n",
       "<p>5 rows × 70 columns</p>\n",
       "</div>"
      ],
      "text/plain": [
       "  source_following index_method author_name main source_spam_probability  \\\n",
       "0              NaN          NaN         NaN  NaN                     NaN   \n",
       "1              NaN          NaN         NaN  NaN                     NaN   \n",
       "2              NaN          NaN         NaN  NaN                     NaN   \n",
       "3              NaN          NaN         NaN  NaN                     NaN   \n",
       "4              NaN          NaN         NaN  NaN                     NaN   \n",
       "\n",
       "  source_image_height source_assigned_tags source_favicon_height  \\\n",
       "0                 NaN                  NaN                   NaN   \n",
       "1                 NaN                  NaN                   NaN   \n",
       "2                 NaN                  NaN                   NaN   \n",
       "3                 NaN                  NaN                   NaN   \n",
       "4                 NaN                  NaN                   NaN   \n",
       "\n",
       "  source_setting_update_strategy source_last_posted ...  source_profiles  \\\n",
       "0                            NaN                NaN ...              NaN   \n",
       "1                            NaN                NaN ...              NaN   \n",
       "2                            NaN                NaN ...              NaN   \n",
       "3                            NaN                NaN ...              NaN   \n",
       "4                            NaN                NaN ...              NaN   \n",
       "\n",
       "  canonical source_content_length main_authoritative source_verified version  \\\n",
       "0       NaN                   NaN                NaN             NaN     NaN   \n",
       "1       NaN                   NaN                NaN             NaN     NaN   \n",
       "2       NaN                   NaN                NaN             NaN     NaN   \n",
       "3       NaN                   NaN                NaN             NaN     NaN   \n",
       "4       NaN                   NaN                NaN             NaN     NaN   \n",
       "\n",
       "  source_user_interactions main_checksum domain site  \n",
       "0                      NaN           NaN    NaN  NaN  \n",
       "1                      NaN           NaN    NaN  NaN  \n",
       "2                      NaN           NaN    NaN  NaN  \n",
       "3                      NaN           NaN    NaN  NaN  \n",
       "4                      NaN           NaN    NaN  NaN  \n",
       "\n",
       "[5 rows x 70 columns]"
      ]
     },
     "execution_count": 8,
     "metadata": {},
     "output_type": "execute_result"
    }
   ],
   "source": [
    "tweets = sample._source\n",
    "ids = sample._id\n",
    "ids.name = 'id'\n",
    "\n",
    "# Loop on all tweets to get all different fields\n",
    "columns = set()\n",
    "for tweet in tweets:\n",
    "    if tweet.keys() is not None:\n",
    "        columns.update(tweet.keys())\n",
    "columns = list(columns)\n",
    "\n",
    "# Pre-allocate the DataFrame, otherwise it takes too much time to fill\n",
    "# Don't use the tweets IDs for filling the DF as they are not unique !\n",
    "df = pd.DataFrame(columns=columns, index=range(len(ids)))\n",
    "df.head()"
   ]
  },
  {
   "cell_type": "code",
   "execution_count": 9,
   "metadata": {
    "collapsed": false,
    "scrolled": false
   },
   "outputs": [
    {
     "data": {
      "text/html": [
       "<div>\n",
       "<table border=\"1\" class=\"dataframe\">\n",
       "  <thead>\n",
       "    <tr style=\"text-align: right;\">\n",
       "      <th></th>\n",
       "      <th>source_following</th>\n",
       "      <th>index_method</th>\n",
       "      <th>author_name</th>\n",
       "      <th>main</th>\n",
       "      <th>source_spam_probability</th>\n",
       "      <th>source_image_height</th>\n",
       "      <th>source_assigned_tags</th>\n",
       "      <th>source_favicon_height</th>\n",
       "      <th>source_setting_update_strategy</th>\n",
       "      <th>source_last_posted</th>\n",
       "      <th>...</th>\n",
       "      <th>source_profiles</th>\n",
       "      <th>canonical</th>\n",
       "      <th>source_content_length</th>\n",
       "      <th>main_authoritative</th>\n",
       "      <th>source_verified</th>\n",
       "      <th>version</th>\n",
       "      <th>source_user_interactions</th>\n",
       "      <th>main_checksum</th>\n",
       "      <th>domain</th>\n",
       "      <th>site</th>\n",
       "    </tr>\n",
       "    <tr>\n",
       "      <th>id</th>\n",
       "      <th></th>\n",
       "      <th></th>\n",
       "      <th></th>\n",
       "      <th></th>\n",
       "      <th></th>\n",
       "      <th></th>\n",
       "      <th></th>\n",
       "      <th></th>\n",
       "      <th></th>\n",
       "      <th></th>\n",
       "      <th></th>\n",
       "      <th></th>\n",
       "      <th></th>\n",
       "      <th></th>\n",
       "      <th></th>\n",
       "      <th></th>\n",
       "      <th></th>\n",
       "      <th></th>\n",
       "      <th></th>\n",
       "      <th></th>\n",
       "      <th></th>\n",
       "    </tr>\n",
       "  </thead>\n",
       "  <tbody>\n",
       "    <tr>\n",
       "      <th>1459505293000008960</th>\n",
       "      <td>7</td>\n",
       "      <td>SOURCE_TASK_COMPOSITE</td>\n",
       "      <td>BBA Allmedia</td>\n",
       "      <td>Aktuellste Immoangebote http://tinyurl.com/cth...</td>\n",
       "      <td>0</td>\n",
       "      <td>0</td>\n",
       "      <td>NaN</td>\n",
       "      <td>0</td>\n",
       "      <td>CYCLICAL</td>\n",
       "      <td>2014-12-22T12:28:07Z</td>\n",
       "      <td>...</td>\n",
       "      <td>http://www.bremgarterbezirksanzeiger.ch</td>\n",
       "      <td>https://twitter.com/bba_allmedia/status/715843...</td>\n",
       "      <td>270959</td>\n",
       "      <td>True</td>\n",
       "      <td>False</td>\n",
       "      <td>5.1.683</td>\n",
       "      <td>0</td>\n",
       "      <td>01uIm3DfvaRag9mywHxDhXv3hYM</td>\n",
       "      <td>twitter.com</td>\n",
       "      <td>twitter.com</td>\n",
       "    </tr>\n",
       "    <tr>\n",
       "      <th>1459504074000012800</th>\n",
       "      <td>112</td>\n",
       "      <td>SOURCE_TASK_COMPOSITE</td>\n",
       "      <td>BadZurzach Tourismus</td>\n",
       "      <td>Du bist 6 - 14 Jahre alt &amp; sprichst Schweizerd...</td>\n",
       "      <td>0</td>\n",
       "      <td>0</td>\n",
       "      <td>NaN</td>\n",
       "      <td>0</td>\n",
       "      <td>CYCLICAL</td>\n",
       "      <td>2015-06-16T13:46:37Z</td>\n",
       "      <td>...</td>\n",
       "      <td>http://www.badzurzach.info</td>\n",
       "      <td>https://twitter.com/BadZurzach/status/71583797...</td>\n",
       "      <td>278303</td>\n",
       "      <td>True</td>\n",
       "      <td>False</td>\n",
       "      <td>5.1.683</td>\n",
       "      <td>0</td>\n",
       "      <td>mQW-JYGlqfn2cV6wE81g9H7f2tA</td>\n",
       "      <td>twitter.com</td>\n",
       "      <td>twitter.com</td>\n",
       "    </tr>\n",
       "    <tr>\n",
       "      <th>1459547684000013568</th>\n",
       "      <td>243</td>\n",
       "      <td>SOURCE_TASK_COMPOSITE</td>\n",
       "      <td>AurelieRossi</td>\n",
       "      <td>EN DIRECT sur #Periscope : Avec awa la blg htt...</td>\n",
       "      <td>0</td>\n",
       "      <td>0</td>\n",
       "      <td>NaN</td>\n",
       "      <td>0</td>\n",
       "      <td>CYCLICAL</td>\n",
       "      <td>2015-06-26T09:47:06Z</td>\n",
       "      <td>...</td>\n",
       "      <td>NaN</td>\n",
       "      <td>https://twitter.com/AurelieL34/status/71601995...</td>\n",
       "      <td>301219</td>\n",
       "      <td>True</td>\n",
       "      <td>False</td>\n",
       "      <td>5.1.683</td>\n",
       "      <td>0</td>\n",
       "      <td>KNFiOM4I-La0cXRIZ5ggtfwsbW4</td>\n",
       "      <td>twitter.com</td>\n",
       "      <td>twitter.com</td>\n",
       "    </tr>\n",
       "    <tr>\n",
       "      <th>1459478188000002816</th>\n",
       "      <td>564</td>\n",
       "      <td>SOURCE_TASK_COMPOSITE</td>\n",
       "      <td>ALFEEL GOOD</td>\n",
       "      <td>@ZHA_News https://youtu.be/UxQmxIm4q1s  Rest i...</td>\n",
       "      <td>0</td>\n",
       "      <td>0</td>\n",
       "      <td>NaN</td>\n",
       "      <td>0</td>\n",
       "      <td>CYCLICAL</td>\n",
       "      <td>2014-11-28T08:05:48Z</td>\n",
       "      <td>...</td>\n",
       "      <td>NaN</td>\n",
       "      <td>https://twitter.com/ALFEEL_GOOD/status/7157293...</td>\n",
       "      <td>298888</td>\n",
       "      <td>True</td>\n",
       "      <td>True</td>\n",
       "      <td>5.1.681</td>\n",
       "      <td>0</td>\n",
       "      <td>j-LPxbxNB4LrdiZOLU9xmigJj3o</td>\n",
       "      <td>twitter.com</td>\n",
       "      <td>twitter.com</td>\n",
       "    </tr>\n",
       "    <tr>\n",
       "      <th>1459519767000012288</th>\n",
       "      <td>525</td>\n",
       "      <td>SOURCE_TASK_COMPOSITE</td>\n",
       "      <td>Dominik Thali</td>\n",
       "      <td>Unterwegs rastet der Velofahrer gerne bei eine...</td>\n",
       "      <td>0</td>\n",
       "      <td>0</td>\n",
       "      <td>NaN</td>\n",
       "      <td>0</td>\n",
       "      <td>CYCLICAL</td>\n",
       "      <td>2015-10-18T13:34:49Z</td>\n",
       "      <td>...</td>\n",
       "      <td>http://www.velofahrer.ch</td>\n",
       "      <td>https://twitter.com/velo_dominik/status/715903...</td>\n",
       "      <td>296657</td>\n",
       "      <td>True</td>\n",
       "      <td>False</td>\n",
       "      <td>5.1.683</td>\n",
       "      <td>0</td>\n",
       "      <td>lzw4e9HJVy2C9TYrduwkba6QX54</td>\n",
       "      <td>twitter.com</td>\n",
       "      <td>twitter.com</td>\n",
       "    </tr>\n",
       "  </tbody>\n",
       "</table>\n",
       "<p>5 rows × 70 columns</p>\n",
       "</div>"
      ],
      "text/plain": [
       "                    source_following           index_method  \\\n",
       "id                                                            \n",
       "1459505293000008960                7  SOURCE_TASK_COMPOSITE   \n",
       "1459504074000012800              112  SOURCE_TASK_COMPOSITE   \n",
       "1459547684000013568              243  SOURCE_TASK_COMPOSITE   \n",
       "1459478188000002816              564  SOURCE_TASK_COMPOSITE   \n",
       "1459519767000012288              525  SOURCE_TASK_COMPOSITE   \n",
       "\n",
       "                              author_name  \\\n",
       "id                                          \n",
       "1459505293000008960          BBA Allmedia   \n",
       "1459504074000012800  BadZurzach Tourismus   \n",
       "1459547684000013568          AurelieRossi   \n",
       "1459478188000002816           ALFEEL GOOD   \n",
       "1459519767000012288         Dominik Thali   \n",
       "\n",
       "                                                                  main  \\\n",
       "id                                                                       \n",
       "1459505293000008960  Aktuellste Immoangebote http://tinyurl.com/cth...   \n",
       "1459504074000012800  Du bist 6 - 14 Jahre alt & sprichst Schweizerd...   \n",
       "1459547684000013568  EN DIRECT sur #Periscope : Avec awa la blg htt...   \n",
       "1459478188000002816  @ZHA_News https://youtu.be/UxQmxIm4q1s  Rest i...   \n",
       "1459519767000012288  Unterwegs rastet der Velofahrer gerne bei eine...   \n",
       "\n",
       "                    source_spam_probability source_image_height  \\\n",
       "id                                                                \n",
       "1459505293000008960                       0                   0   \n",
       "1459504074000012800                       0                   0   \n",
       "1459547684000013568                       0                   0   \n",
       "1459478188000002816                       0                   0   \n",
       "1459519767000012288                       0                   0   \n",
       "\n",
       "                    source_assigned_tags source_favicon_height  \\\n",
       "id                                                               \n",
       "1459505293000008960                  NaN                     0   \n",
       "1459504074000012800                  NaN                     0   \n",
       "1459547684000013568                  NaN                     0   \n",
       "1459478188000002816                  NaN                     0   \n",
       "1459519767000012288                  NaN                     0   \n",
       "\n",
       "                    source_setting_update_strategy    source_last_posted  \\\n",
       "id                                                                         \n",
       "1459505293000008960                       CYCLICAL  2014-12-22T12:28:07Z   \n",
       "1459504074000012800                       CYCLICAL  2015-06-16T13:46:37Z   \n",
       "1459547684000013568                       CYCLICAL  2015-06-26T09:47:06Z   \n",
       "1459478188000002816                       CYCLICAL  2014-11-28T08:05:48Z   \n",
       "1459519767000012288                       CYCLICAL  2015-10-18T13:34:49Z   \n",
       "\n",
       "                        ...                               source_profiles  \\\n",
       "id                      ...                                                 \n",
       "1459505293000008960     ...       http://www.bremgarterbezirksanzeiger.ch   \n",
       "1459504074000012800     ...                    http://www.badzurzach.info   \n",
       "1459547684000013568     ...                                           NaN   \n",
       "1459478188000002816     ...                                           NaN   \n",
       "1459519767000012288     ...                      http://www.velofahrer.ch   \n",
       "\n",
       "                                                             canonical  \\\n",
       "id                                                                       \n",
       "1459505293000008960  https://twitter.com/bba_allmedia/status/715843...   \n",
       "1459504074000012800  https://twitter.com/BadZurzach/status/71583797...   \n",
       "1459547684000013568  https://twitter.com/AurelieL34/status/71601995...   \n",
       "1459478188000002816  https://twitter.com/ALFEEL_GOOD/status/7157293...   \n",
       "1459519767000012288  https://twitter.com/velo_dominik/status/715903...   \n",
       "\n",
       "                    source_content_length main_authoritative source_verified  \\\n",
       "id                                                                             \n",
       "1459505293000008960                270959               True           False   \n",
       "1459504074000012800                278303               True           False   \n",
       "1459547684000013568                301219               True           False   \n",
       "1459478188000002816                298888               True            True   \n",
       "1459519767000012288                296657               True           False   \n",
       "\n",
       "                     version source_user_interactions  \\\n",
       "id                                                      \n",
       "1459505293000008960  5.1.683                        0   \n",
       "1459504074000012800  5.1.683                        0   \n",
       "1459547684000013568  5.1.683                        0   \n",
       "1459478188000002816  5.1.681                        0   \n",
       "1459519767000012288  5.1.683                        0   \n",
       "\n",
       "                                   main_checksum       domain         site  \n",
       "id                                                                          \n",
       "1459505293000008960  01uIm3DfvaRag9mywHxDhXv3hYM  twitter.com  twitter.com  \n",
       "1459504074000012800  mQW-JYGlqfn2cV6wE81g9H7f2tA  twitter.com  twitter.com  \n",
       "1459547684000013568  KNFiOM4I-La0cXRIZ5ggtfwsbW4  twitter.com  twitter.com  \n",
       "1459478188000002816  j-LPxbxNB4LrdiZOLU9xmigJj3o  twitter.com  twitter.com  \n",
       "1459519767000012288  lzw4e9HJVy2C9TYrduwkba6QX54  twitter.com  twitter.com  \n",
       "\n",
       "[5 rows x 70 columns]"
      ]
     },
     "execution_count": 9,
     "metadata": {},
     "output_type": "execute_result"
    }
   ],
   "source": [
    "for i in range(len(tweets)):\n",
    "    for key, value in tweets[i].items():\n",
    "        # Convert lists to strings\n",
    "        if type(value) == list:\n",
    "            tweets[i][key] = ' '.join(value)\n",
    "        \n",
    "    df.loc[i] = pd.Series(tweets[i])\n",
    "\n",
    "# Give the tweets their original IDs\n",
    "df.index = ids\n",
    "\n",
    "df.head()"
   ]
  },
  {
   "cell_type": "markdown",
   "metadata": {},
   "source": [
    "What are the users' locations for these tweets?"
   ]
  },
  {
   "cell_type": "code",
   "execution_count": 10,
   "metadata": {
    "collapsed": false,
    "scrolled": false
   },
   "outputs": [
    {
     "data": {
      "text/plain": [
       "Switzerland    9002\n",
       "Suisse         2325\n",
       "Zürich         2298\n",
       "Schweiz        1813\n",
       "Geneva         1538\n",
       "Name: source_location, dtype: int64"
      ]
     },
     "execution_count": 10,
     "metadata": {},
     "output_type": "execute_result"
    }
   ],
   "source": [
    "df['source_location'].value_counts().head()"
   ]
  },
  {
   "cell_type": "markdown",
   "metadata": {},
   "source": [
    "What are the sentiments associated to the tweets ?"
   ]
  },
  {
   "cell_type": "code",
   "execution_count": 11,
   "metadata": {
    "collapsed": false
   },
   "outputs": [
    {
     "data": {
      "text/plain": [
       "NEUTRAL     18708\n",
       "POSITIVE     4130\n",
       "NEGATIVE     1597\n",
       "Name: sentiment, dtype: int64"
      ]
     },
     "execution_count": 11,
     "metadata": {},
     "output_type": "execute_result"
    }
   ],
   "source": [
    "df['sentiment'].value_counts()"
   ]
  },
  {
   "cell_type": "markdown",
   "metadata": {},
   "source": [
    "Let's extract a few tweets"
   ]
  },
  {
   "cell_type": "code",
   "execution_count": 12,
   "metadata": {
    "collapsed": false
   },
   "outputs": [
    {
     "data": {
      "text/plain": [
       "id\n",
       "1459505293000008960    Aktuellste Immoangebote http://tinyurl.com/cth...\n",
       "1459504074000012800    Du bist 6 - 14 Jahre alt & sprichst Schweizerd...\n",
       "1459547684000013568    EN DIRECT sur #Periscope : Avec awa la blg htt...\n",
       "1459478188000002816    @ZHA_News https://youtu.be/UxQmxIm4q1s  Rest i...\n",
       "1459519767000012288    Unterwegs rastet der Velofahrer gerne bei eine...\n",
       "1459521768000012032    Come and join me at our testing Roadshow on Ap...\n",
       "1459547783000011008                Bad Apple! pic.twitter.com/Xad2aVOHFd\n",
       "1459511039000003840    Number crunching for the past week - 1 new unf...\n",
       "1459506286000000512                   @ElisaaNunees poisson d'avril laul\n",
       "1459492313000010240    Just posted a photo @ Langnau im Emmental http...\n",
       "Name: main, dtype: object"
      ]
     },
     "execution_count": 12,
     "metadata": {},
     "output_type": "execute_result"
    }
   ],
   "source": [
    "df['main'].head(10)"
   ]
  },
  {
   "cell_type": "markdown",
   "metadata": {},
   "source": [
    "In what languages are they ?"
   ]
  },
  {
   "cell_type": "code",
   "execution_count": 13,
   "metadata": {
    "collapsed": false
   },
   "outputs": [
    {
     "data": {
      "text/plain": [
       "en     9608\n",
       "de     6656\n",
       "fr     4835\n",
       "es     1446\n",
       "und     898\n",
       "it      498\n",
       "pt      223\n",
       "tl      134\n",
       "in      133\n",
       "ht      116\n",
       "pl      111\n",
       "tr      101\n",
       "nl       94\n",
       "ja       90\n",
       "ru       64\n",
       "ar       52\n",
       "da       47\n",
       "et       45\n",
       "sv       42\n",
       "ko       26\n",
       "fi       23\n",
       "hi       22\n",
       "no       22\n",
       "sl       13\n",
       "lv       10\n",
       "hu        7\n",
       "lt        5\n",
       "uk        5\n",
       "el        2\n",
       "vi        2\n",
       "is        2\n",
       "bg        1\n",
       "Name: lang, dtype: int64"
      ]
     },
     "execution_count": 13,
     "metadata": {},
     "output_type": "execute_result"
    }
   ],
   "source": [
    "df['lang'].value_counts()"
   ]
  },
  {
   "cell_type": "markdown",
   "metadata": {},
   "source": [
    "For this first part, keep only the english tweets"
   ]
  },
  {
   "cell_type": "code",
   "execution_count": 14,
   "metadata": {
    "collapsed": false
   },
   "outputs": [
    {
     "data": {
      "text/plain": [
       "id\n",
       "1459478188000002816    @ZHA_News https://youtu.be/UxQmxIm4q1s  Rest i...\n",
       "1459521768000012032    Come and join me at our testing Roadshow on Ap...\n",
       "1459547783000011008                Bad Apple! pic.twitter.com/Xad2aVOHFd\n",
       "1459511039000003840    Number crunching for the past week - 1 new unf...\n",
       "1459492313000010240    Just posted a photo @ Langnau im Emmental http...\n",
       "1459518158000004352    Europe's New Mars Mission Bringing NASA Radios...\n",
       "1459525602000004096    I liked a @YouTube video http://youtu.be/LE1WG...\n",
       "1459518063000005120    NASA's Spitzer Maps Climate Patterns on a Supe...\n",
       "1459498184000011264    Microsoft’s HoloLens now available to develope...\n",
       "1459527636000012032    \"i will leave tomorrow's problem for tomorrow'...\n",
       "Name: main, dtype: object"
      ]
     },
     "execution_count": 14,
     "metadata": {},
     "output_type": "execute_result"
    }
   ],
   "source": [
    "df_en = df[df.lang == 'en']\n",
    "df_en['main'].head(10)"
   ]
  },
  {
   "cell_type": "markdown",
   "metadata": {},
   "source": [
    "What about their sentiments ?"
   ]
  },
  {
   "cell_type": "code",
   "execution_count": 15,
   "metadata": {
    "collapsed": false
   },
   "outputs": [
    {
     "data": {
      "text/plain": [
       "NEUTRAL     4513\n",
       "POSITIVE    3538\n",
       "NEGATIVE    1557\n",
       "Name: sentiment, dtype: int64"
      ]
     },
     "execution_count": 15,
     "metadata": {},
     "output_type": "execute_result"
    }
   ],
   "source": [
    "df_en['sentiment'].value_counts()"
   ]
  },
  {
   "cell_type": "code",
   "execution_count": 16,
   "metadata": {
    "collapsed": false
   },
   "outputs": [
    {
     "data": {
      "text/html": [
       "<div>\n",
       "<table border=\"1\" class=\"dataframe\">\n",
       "  <thead>\n",
       "    <tr style=\"text-align: right;\">\n",
       "      <th></th>\n",
       "      <th>source_location</th>\n",
       "      <th>sentiment</th>\n",
       "    </tr>\n",
       "    <tr>\n",
       "      <th>id</th>\n",
       "      <th></th>\n",
       "      <th></th>\n",
       "    </tr>\n",
       "  </thead>\n",
       "  <tbody>\n",
       "    <tr>\n",
       "      <th>1459478188000002816</th>\n",
       "      <td>Lucerna</td>\n",
       "      <td>POSITIVE</td>\n",
       "    </tr>\n",
       "    <tr>\n",
       "      <th>1459521768000012032</th>\n",
       "      <td>Ennetbürgen</td>\n",
       "      <td>POSITIVE</td>\n",
       "    </tr>\n",
       "    <tr>\n",
       "      <th>1459547783000011008</th>\n",
       "      <td>Suica</td>\n",
       "      <td>NEGATIVE</td>\n",
       "    </tr>\n",
       "    <tr>\n",
       "      <th>1459511039000003840</th>\n",
       "      <td>Arth</td>\n",
       "      <td>NEUTRAL</td>\n",
       "    </tr>\n",
       "    <tr>\n",
       "      <th>1459492313000010240</th>\n",
       "      <td>Langnau</td>\n",
       "      <td>NEUTRAL</td>\n",
       "    </tr>\n",
       "    <tr>\n",
       "      <th>1459518158000004352</th>\n",
       "      <td>Poschiavo</td>\n",
       "      <td>NEUTRAL</td>\n",
       "    </tr>\n",
       "    <tr>\n",
       "      <th>1459525602000004096</th>\n",
       "      <td>Laufen</td>\n",
       "      <td>POSITIVE</td>\n",
       "    </tr>\n",
       "    <tr>\n",
       "      <th>1459518063000005120</th>\n",
       "      <td>Poschiavo</td>\n",
       "      <td>POSITIVE</td>\n",
       "    </tr>\n",
       "    <tr>\n",
       "      <th>1459498184000011264</th>\n",
       "      <td>Poschiavo</td>\n",
       "      <td>POSITIVE</td>\n",
       "    </tr>\n",
       "    <tr>\n",
       "      <th>1459527636000012032</th>\n",
       "      <td>Schwyz</td>\n",
       "      <td>NEGATIVE</td>\n",
       "    </tr>\n",
       "  </tbody>\n",
       "</table>\n",
       "</div>"
      ],
      "text/plain": [
       "                    source_location sentiment\n",
       "id                                           \n",
       "1459478188000002816         Lucerna  POSITIVE\n",
       "1459521768000012032     Ennetbürgen  POSITIVE\n",
       "1459547783000011008           Suica  NEGATIVE\n",
       "1459511039000003840            Arth   NEUTRAL\n",
       "1459492313000010240         Langnau   NEUTRAL\n",
       "1459518158000004352       Poschiavo   NEUTRAL\n",
       "1459525602000004096          Laufen  POSITIVE\n",
       "1459518063000005120       Poschiavo  POSITIVE\n",
       "1459498184000011264       Poschiavo  POSITIVE\n",
       "1459527636000012032          Schwyz  NEGATIVE"
      ]
     },
     "execution_count": 16,
     "metadata": {},
     "output_type": "execute_result"
    }
   ],
   "source": [
    "tweets = df_en[['source_location', 'sentiment']]\n",
    "tweets.head(10)"
   ]
  },
  {
   "cell_type": "markdown",
   "metadata": {},
   "source": [
    "Okay, now we have to do this for the whole data set ! See twitter_extract file for the automated processing"
   ]
  },
  {
   "cell_type": "code",
   "execution_count": 17,
   "metadata": {
    "collapsed": false,
    "scrolled": false
   },
   "outputs": [
    {
     "name": "stdout",
     "output_type": "stream",
     "text": [
      "Parsing data/april/harvest3r_twitter_data_01-04_0.json...\n",
      "Parsing data/april/harvest3r_twitter_data_02-04_0.json...\n",
      "Parsing data/april/harvest3r_twitter_data_03-04_0.json...\n",
      "Parsing data/april/harvest3r_twitter_data_04-04_0.json...\n",
      "Parsing data/april/harvest3r_twitter_data_05-04_0.json...\n",
      "Parsing data/april/harvest3r_twitter_data_06-04_0.json...\n",
      "Parsing data/april/harvest3r_twitter_data_07-04_0.json...\n",
      "Parsing data/april/harvest3r_twitter_data_08-04_0.json...\n",
      "Parsing data/april/harvest3r_twitter_data_09-04_0.json...\n",
      "Parsing data/april/harvest3r_twitter_data_10-04_0.json...\n",
      "Parsing data/april/harvest3r_twitter_data_11-04_0.json...\n",
      "Parsing data/april/harvest3r_twitter_data_12-04_0.json...\n",
      "Parsing data/april/harvest3r_twitter_data_13-04_0.json...\n",
      "Parsing data/april/harvest3r_twitter_data_14-04_0.json...\n",
      "Parsing data/april/harvest3r_twitter_data_15-04_0.json...\n",
      "Parsing data/april/harvest3r_twitter_data_16-04_0.json...\n",
      "Parsing data/april/harvest3r_twitter_data_17-04_0.json...\n",
      "Parsing data/april/harvest3r_twitter_data_18-04_0.json...\n",
      "Parsing data/april/harvest3r_twitter_data_19-04_0.json...\n",
      "Parsing data/april/harvest3r_twitter_data_20-04_0.json...\n",
      "Parsing data/april/harvest3r_twitter_data_21-04_0.json...\n",
      "Parsing data/april/harvest3r_twitter_data_22-04_0.json...\n",
      "Parsing data/april/harvest3r_twitter_data_23-04_0.json...\n",
      "Parsing data/april/harvest3r_twitter_data_24-04_0.json...\n",
      "Parsing data/april/harvest3r_twitter_data_25-04_0.json...\n",
      "Parsing data/april/harvest3r_twitter_data_26-04_0.json...\n",
      "Parsing data/april/harvest3r_twitter_data_27-04_0.json...\n",
      "Parsing data/april/harvest3r_twitter_data_28-04_0.json...\n",
      "Parsing data/april/harvest3r_twitter_data_29-04_0.json...\n",
      "Parsing data/april/harvest3r_twitter_data_30-04_0.json...\n"
     ]
    }
   ],
   "source": [
    "df = twitter_extract.parse_month('april', '04')"
   ]
  },
  {
   "cell_type": "code",
   "execution_count": 18,
   "metadata": {
    "collapsed": true
   },
   "outputs": [],
   "source": [
    "df.to_pickle('processed/tweets_en_april.pkl')"
   ]
  },
  {
   "cell_type": "markdown",
   "metadata": {},
   "source": [
    "What is the size of the data ?"
   ]
  }
 ],
 "metadata": {
  "anaconda-cloud": {},
  "kernelspec": {
   "display_name": "Python [Root]",
   "language": "python",
   "name": "Python [Root]"
  },
  "language_info": {
   "codemirror_mode": {
    "name": "ipython",
    "version": 3
   },
   "file_extension": ".py",
   "mimetype": "text/x-python",
   "name": "python",
   "nbconvert_exporter": "python",
   "pygments_lexer": "ipython3",
   "version": "3.5.2"
  }
 },
 "nbformat": 4,
 "nbformat_minor": 0
}
